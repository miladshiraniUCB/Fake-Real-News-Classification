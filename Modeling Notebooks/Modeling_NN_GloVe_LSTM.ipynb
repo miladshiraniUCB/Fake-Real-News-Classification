{
  "cells": [
    {
      "cell_type": "markdown",
      "metadata": {
        "id": "DnzPBwMKeAs-"
      },
      "source": [
        "In this notebook, we will use GloVe with LSTM. "
      ]
    },
    {
      "cell_type": "markdown",
      "metadata": {
        "id": "10VPeMycpmJD"
      },
      "source": [
        "# Importing Libraries"
      ]
    },
    {
      "cell_type": "code",
      "execution_count": null,
      "metadata": {
        "colab": {
          "base_uri": "https://localhost:8080/"
        },
        "id": "rwknOcw2pfCp",
        "outputId": "501f334e-8143-4cf0-b84e-b0f3ff1a13e2"
      },
      "outputs": [
        {
          "output_type": "stream",
          "name": "stdout",
          "text": [
            "Version:  2.8.2\n",
            "Hub version:  0.12.0\n",
            "GPU is available\n"
          ]
        }
      ],
      "source": [
        "import numpy as np\n",
        "import pandas as pd\n",
        "import string\n",
        "\n",
        "\n",
        "import seaborn as sns\n",
        "import matplotlib.pyplot as plt\n",
        "\n",
        "\n",
        "from sklearn.metrics import confusion_matrix\n",
        "from sklearn.metrics import classification_report, plot_confusion_matrix\n",
        "from sklearn.preprocessing import LabelEncoder\n",
        "\n",
        "\n",
        "from sklearn.pipeline import Pipeline\n",
        "from sklearn.preprocessing import FunctionTransformer\n",
        "from sklearn.compose import ColumnTransformer\n",
        "from gensim.models import word2vec\n",
        "\n",
        "import tensorflow as tf\n",
        "from tensorflow.keras.preprocessing.sequence import pad_sequences\n",
        "from tensorflow.keras.layers import Input, Dense, LSTM, Embedding, Flatten\n",
        "from tensorflow.keras.layers import Dropout, Activation, Bidirectional, GlobalMaxPool1D\n",
        "from tensorflow.keras.models import Sequential\n",
        "from tensorflow.keras import initializers, regularizers, constraints, optimizers, layers\n",
        "from tensorflow.keras.preprocessing import text, sequence\n",
        "from tensorflow.keras.preprocessing.text import Tokenizer\n",
        "from tensorflow.keras.callbacks import EarlyStopping\n",
        "\n",
        "import tensorflow_hub as hub\n",
        "import tensorflow_datasets as tfds\n",
        "\n",
        "\n",
        "from  IPython import display\n",
        "\n",
        "import pathlib\n",
        "import shutil\n",
        "import tempfile\n",
        "\n",
        "!pip install -q git+https://github.com/tensorflow/docs\n",
        "\n",
        "import tensorflow_docs as tfdocs\n",
        "import tensorflow_docs.modeling\n",
        "import tensorflow_docs.plots\n",
        " \n",
        "print(\"Version: \", tf.__version__)\n",
        "print(\"Hub version: \", hub.__version__)\n",
        "print(\"GPU is\", \"available\" if tf.config.list_physical_devices('GPU') else \"NOT AVAILABLE\")\n",
        "\n",
        "logdir = pathlib.Path(tempfile.mkdtemp())/\"tensorboard_logs\"\n",
        "shutil.rmtree(logdir, ignore_errors=True)\n",
        "\n",
        "\n",
        "import warnings\n",
        "warnings.filterwarnings('ignore')"
      ]
    },
    {
      "cell_type": "code",
      "execution_count": null,
      "metadata": {
        "colab": {
          "base_uri": "https://localhost:8080/"
        },
        "id": "z8qH4tQk8uP1",
        "outputId": "fe473378-0866-4a12-ef2f-be3c9c38ec65"
      },
      "outputs": [
        {
          "output_type": "stream",
          "name": "stdout",
          "text": [
            "Sat Jul  9 10:16:20 2022       \n",
            "+-----------------------------------------------------------------------------+\n",
            "| NVIDIA-SMI 460.32.03    Driver Version: 460.32.03    CUDA Version: 11.2     |\n",
            "|-------------------------------+----------------------+----------------------+\n",
            "| GPU  Name        Persistence-M| Bus-Id        Disp.A | Volatile Uncorr. ECC |\n",
            "| Fan  Temp  Perf  Pwr:Usage/Cap|         Memory-Usage | GPU-Util  Compute M. |\n",
            "|                               |                      |               MIG M. |\n",
            "|===============================+======================+======================|\n",
            "|   0  Tesla T4            Off  | 00000000:00:04.0 Off |                    0 |\n",
            "| N/A   49C    P8    10W /  70W |      3MiB / 15109MiB |      0%      Default |\n",
            "|                               |                      |                  N/A |\n",
            "+-------------------------------+----------------------+----------------------+\n",
            "                                                                               \n",
            "+-----------------------------------------------------------------------------+\n",
            "| Processes:                                                                  |\n",
            "|  GPU   GI   CI        PID   Type   Process name                  GPU Memory |\n",
            "|        ID   ID                                                   Usage      |\n",
            "|=============================================================================|\n",
            "|  No running processes found                                                 |\n",
            "+-----------------------------------------------------------------------------+\n"
          ]
        }
      ],
      "source": [
        "!nvidia-smi"
      ]
    },
    {
      "cell_type": "markdown",
      "metadata": {
        "id": "h6adGcRAptJb"
      },
      "source": [
        "# Functions We Use"
      ]
    },
    {
      "cell_type": "markdown",
      "metadata": {
        "id": "IlmEOUJWeirv"
      },
      "source": [
        "The functionsthat we use in this notebook are located in this section. The first function is the neural network that we will train on the training set. The next two functions perform some basic cleaning and the last function prints the result of the training."
      ]
    },
    {
      "cell_type": "markdown",
      "source": [
        "### Cleaning the data"
      ],
      "metadata": {
        "id": "tspWK8ZRKwAH"
      }
    },
    {
      "cell_type": "code",
      "execution_count": null,
      "metadata": {
        "id": "CX3NBlcbqVpp"
      },
      "outputs": [],
      "source": [
        "def new_cleaning(data):\n",
        "    cleaned_data = data.replace(\"[\", \"\").replace(\"]\", \"\").replace(\"'\", \"\")\\\n",
        "                                    .replace(\" \", \"\").split(\",\")\n",
        "\n",
        "    cleaned_sentence = \" \".join(cleaned_data)\n",
        "\n",
        "\n",
        "    return cleaned_sentence"
      ]
    },
    {
      "cell_type": "markdown",
      "source": [
        "### Printing the results"
      ],
      "metadata": {
        "id": "g9vOBtxQKoCX"
      }
    },
    {
      "cell_type": "code",
      "execution_count": null,
      "metadata": {
        "id": "bx17Rmj3JO-x"
      },
      "outputs": [],
      "source": [
        "def print_results(model): \n",
        "    \n",
        "    \n",
        "    train_loss = model.history.history[\"loss\"]\n",
        "    train_acc  = model.history.history[\"accuracy\"]\n",
        "\n",
        "    test_loss = model.history.history[\"val_loss\"]\n",
        "    test_acc  = model.history.history[\"val_accuracy\"]\n",
        "    \n",
        "    \n",
        "    sns.set(font_scale=1)\n",
        "    \n",
        "    cf_matrix_test  = confusion_matrix(y_test, np.rint(model.predict(padded_test)))\n",
        "    cf_matrix_train = confusion_matrix(y_train, np.rint(model.predict(padded_train)))\n",
        "    \n",
        "    \n",
        "    fig, axes = plt.subplots(nrows=2, ncols=2, figsize=(10,10))\n",
        "    ax1 = axes[0][0]\n",
        "    \n",
        "    g = sns.heatmap(cf_matrix_test, annot=True, cmap='Blues', ax = ax1)\n",
        "    \n",
        "    g.xaxis.set_ticklabels(['Fake','True'])\n",
        "    g.yaxis.set_ticklabels(['Fake','True'])\n",
        "\n",
        "    \n",
        "    ax1.set_title(\"Confusion Matrix for Test Set\")\n",
        "    \n",
        "    ax2 = axes[0][1]\n",
        "    g = sns.heatmap(cf_matrix_train, annot=True, cmap='Blues', ax = ax2)\n",
        "    g.xaxis.set_ticklabels(['Fake','True'])\n",
        "    g.yaxis.set_ticklabels(['Fake','True'])\n",
        "\n",
        "    \n",
        "    ax2.set_title(\"Confusion Matrix for Train Set\")\n",
        "    \n",
        "    \n",
        "    \n",
        "    ax3 = axes[1][0]\n",
        "    \n",
        "    g = sns.lineplot(x = range(1,len(train_loss)+1), \n",
        "                     y = train_loss, \n",
        "                     label = \"train_loss\", ax = ax3);\n",
        "    g = sns.lineplot(x = range(1,len(test_loss)+1), \n",
        "                     y = test_loss, \n",
        "                     label = \"test_loss\", ax = ax3);\n",
        "\n",
        "\n",
        "    \n",
        "    ax3.set_title(\"Loss vs. Epochs\")\n",
        "    \n",
        "    \n",
        "    \n",
        "    ax4 = axes[1][1]\n",
        "    \n",
        "    g = sns.lineplot(x = range(1,len(train_acc)+1), \n",
        "                     y = train_acc, \n",
        "                     label = \"train_accuracy\", ax = ax4);\n",
        "    g = sns.lineplot(x = range(1,len(test_acc)+1), \n",
        "                     y = test_acc, \n",
        "                     label = \"test_accuracy\", ax = ax4);\n",
        "    \n",
        "    \n",
        "    ax4.set_title(\"Accuracy vs. Epochs\")\n",
        "    \n",
        "    \n",
        "    ### Presenting Classification Report as a DataFrame\n",
        "    train_class = classification_report(y_train, np.rint(model.predict(padded_train)), \n",
        "                                        output_dict = True)\n",
        "    test_class  = classification_report(y_test, np.rint(model.predict(padded_test)), \n",
        "                                        output_dict = True)\n",
        "    \n",
        "    train_df = pd.DataFrame(train_class)\n",
        "    test_df  = pd.DataFrame(test_class)\n",
        "    \n",
        "    train_df[\"data\"] = \"TRAIN\"\n",
        "    test_df[\"data\"] = \"TEST\"\n",
        "    \n",
        "\n",
        "    report = pd.concat([test_df, train_df], axis = 0)\n",
        "    report.rename(columns = {\"1\": f\"{list(le.inverse_transform([1]))[0]}\",\n",
        "                             \"0\": f\"{list(le.inverse_transform([0]))[0]}\"}, inplace = True)\n",
        "    report[\"index\"] = list(report.index)\n",
        "\n",
        "    report.set_index([\"data\", \"index\"], inplace = True)\n",
        "    \n",
        "    \n",
        "    for item in list(report.columns):\n",
        "        report[item] = report[item].apply(lambda x: np.round(x,2))\n",
        "    \n",
        "    return report"
      ]
    },
    {
      "cell_type": "markdown",
      "metadata": {
        "id": "rHIwX9WArkCI"
      },
      "source": [
        "# Importing Data"
      ]
    },
    {
      "cell_type": "code",
      "execution_count": null,
      "metadata": {
        "colab": {
          "base_uri": "https://localhost:8080/"
        },
        "id": "QW_Q2H78reRa",
        "outputId": "1f68dc30-e4a3-4f18-8902-1aa8a09388c7"
      },
      "outputs": [
        {
          "output_type": "stream",
          "name": "stdout",
          "text": [
            "DONE!\n"
          ]
        }
      ],
      "source": [
        "test = pd.read_csv(\"/content/drive/MyDrive/Fake-Real-News-Classification/Modeling/train_test/test.csv\")\n",
        "train = pd.read_csv(\"/content/drive/MyDrive/Fake-Real-News-Classification/Modeling/train_test/train.csv\")\n",
        "\n",
        "\n",
        "data  = [train, test]\n",
        "\n",
        "for df in data:\n",
        "    \n",
        "    df.drop(\"Unnamed: 0\", axis = 1, inplace = True)\n",
        "    df[\"cleaned\"] =  df[\"cleaned\"].apply(lambda x: new_cleaning(x))\n",
        "    \n",
        "    df[\"cleaned_glove\"] =  df[\"for_glove\"].apply(lambda x: new_cleaning(x))\n",
        "   \n",
        "\n",
        "print(\"DONE!\")"
      ]
    },
    {
      "cell_type": "code",
      "execution_count": null,
      "metadata": {
        "id": "jzEyNqY4r4XV"
      },
      "outputs": [],
      "source": [
        "le = LabelEncoder()\n",
        "\n",
        "X_train = train[\"cleaned\"].values\n",
        "y_train = le.fit_transform(train[\"label\"])\n",
        "\n",
        "X_test = test[\"cleaned\"].values\n",
        "y_test = le.transform(test[\"label\"])"
      ]
    },
    {
      "cell_type": "code",
      "source": [
        "X_train[0].split()"
      ],
      "metadata": {
        "colab": {
          "base_uri": "https://localhost:8080/"
        },
        "id": "5JcBBNQMm2P7",
        "outputId": "c43c23b5-ada5-47aa-eab6-2e8372002137"
      },
      "execution_count": null,
      "outputs": [
        {
          "output_type": "execute_result",
          "data": {
            "text/plain": [
              "['april', 'giraffe', 'zoo', 'want', 'name', 'calf']"
            ]
          },
          "metadata": {},
          "execution_count": 7
        }
      ]
    },
    {
      "cell_type": "markdown",
      "source": [
        "# Importing GloVe"
      ],
      "metadata": {
        "id": "2edXUTsBckq2"
      }
    },
    {
      "cell_type": "code",
      "source": [
        "total_vocabulary = set(word for headline in X_train for word in headline.split())\n",
        "print(len(total_vocabulary))\n",
        "\n",
        "\n",
        "glove = {}\n",
        "with open('/content/drive/MyDrive/Fake-Real-News-Classification/Modeling/glove.840B.300d.txt', 'rb') as f:\n",
        "    for line in f:\n",
        "        parts = line.split()\n",
        "        word = parts[0].decode('utf-8')\n",
        "        if word in total_vocabulary:\n",
        "            vector = np.array(parts[1:], dtype=np.float32)\n",
        "            glove[word] = vector\n",
        "            \n",
        "            \n",
        "\n",
        "print(\"DONE!\")   "
      ],
      "metadata": {
        "colab": {
          "base_uri": "https://localhost:8080/"
        },
        "id": "bCn0fbHucnVM",
        "outputId": "cdf8fc2d-05a5-40ae-9e5d-6dfad69ddce2"
      },
      "execution_count": null,
      "outputs": [
        {
          "output_type": "stream",
          "name": "stdout",
          "text": [
            "94186\n",
            "DONE!\n"
          ]
        }
      ]
    },
    {
      "cell_type": "code",
      "source": [
        "len(list(glove.keys()))\n",
        "glove[list(glove.keys())[0]].shape[0]"
      ],
      "metadata": {
        "colab": {
          "base_uri": "https://localhost:8080/"
        },
        "id": "lwtdaj7Lf9Dy",
        "outputId": "d7be9060-da54-47e1-959d-451407c0240d"
      },
      "execution_count": null,
      "outputs": [
        {
          "output_type": "execute_result",
          "data": {
            "text/plain": [
              "300"
            ]
          },
          "metadata": {},
          "execution_count": 9
        }
      ]
    },
    {
      "cell_type": "code",
      "source": [
        "max_features = 1000\n",
        "# max_len = glove[list(glove.keys())[0]].shape[0]\n",
        "max_len = 250\n",
        "\n",
        "## Train Set\n",
        "tokenizer = text.Tokenizer(num_words= max_features)#, oov_token= \"<OOV>\")\n",
        "\n",
        "\n",
        "tokenizer.fit_on_texts(X_train)\n",
        "\n",
        "word_index = tokenizer.word_index\n",
        "\n",
        "tokenized_train = tokenizer.texts_to_sequences(X_train)\n",
        "padded_train = pad_sequences(tokenized_train, maxlen = max_len, truncating=\"post\")\n",
        "\n",
        "\n",
        "## Test Set\n",
        "tokenized_test = tokenizer.texts_to_sequences(X_test)\n",
        "padded_test    = pad_sequences(tokenized_test,maxlen=max_len)\n",
        "\n",
        "print(len(word_index))"
      ],
      "metadata": {
        "colab": {
          "base_uri": "https://localhost:8080/"
        },
        "id": "p0ZgWM1YioLM",
        "outputId": "9cceeeea-3305-4608-de49-332bd676e00b"
      },
      "execution_count": null,
      "outputs": [
        {
          "output_type": "stream",
          "name": "stdout",
          "text": [
            "93782\n"
          ]
        }
      ]
    },
    {
      "cell_type": "code",
      "source": [
        "embedding_dim = glove[list(glove.keys())[0]].shape[0]\n",
        "embedding_matrix = np.zeros((len(word_index) + 1 , embedding_dim))\n",
        "\n",
        "for key, val in word_index.items():\n",
        "\n",
        "   if key in glove.keys():\n",
        "      embedding_matrix[val] = glove[key]  "
      ],
      "metadata": {
        "id": "7iBupLiQmSGH"
      },
      "execution_count": null,
      "outputs": []
    },
    {
      "cell_type": "code",
      "source": [
        "embedding_layer = Embedding(embedding_matrix.shape[0], embedding_matrix.shape[1],\n",
        "                            weights = [embedding_matrix],\n",
        "                            input_length = max_len,\n",
        "                            trainable = False)"
      ],
      "metadata": {
        "id": "qFcJQJTYo6yb"
      },
      "execution_count": null,
      "outputs": []
    },
    {
      "cell_type": "code",
      "source": [
        "#Defining Neural Network\n",
        "model = Sequential()\n",
        "#Non-trainable embeddidng layer\n",
        "model.add(Embedding(embedding_matrix.shape[0], embedding_matrix.shape[1], \n",
        "                    weights=[embedding_matrix], input_length=max_len, trainable=False))\n",
        "#LSTM \n",
        "model.add(LSTM(units=64 , return_sequences = True , recurrent_dropout = 0.25 , dropout = 0.5))\n",
        "model.add(LSTM(units=32 , recurrent_dropout = 0.1 , dropout = 0.5))\n",
        "model.add(Flatten())\n",
        "model.add(Dense(units = 40 , activation = 'relu'))\n",
        "model.add(Dropout(0.5))\n",
        "# model.add(Dense(units = 20 , activation = 'relu'))\n",
        "# model.add(Dropout(0.5))\n",
        "# model.add(Dense(units = 10 , activation = 'relu'))\n",
        "# model.add(Dropout(0.5))\n",
        "model.add(Dense(1, activation='sigmoid'))\n",
        "model.compile(optimizer=tf.keras.optimizers.Adam(lr = 0.001), loss='binary_crossentropy', metrics=['accuracy'])"
      ],
      "metadata": {
        "colab": {
          "base_uri": "https://localhost:8080/"
        },
        "id": "_nF1bfi5tnAB",
        "outputId": "c92ef39e-2da0-4014-f30e-c2ecdb386d12"
      },
      "execution_count": null,
      "outputs": [
        {
          "output_type": "stream",
          "name": "stdout",
          "text": [
            "WARNING:tensorflow:Layer lstm will not use cuDNN kernels since it doesn't meet the criteria. It will use a generic GPU kernel as fallback when running on GPU.\n",
            "WARNING:tensorflow:Layer lstm_1 will not use cuDNN kernels since it doesn't meet the criteria. It will use a generic GPU kernel as fallback when running on GPU.\n"
          ]
        }
      ]
    },
    {
      "cell_type": "code",
      "source": [
        "model.fit(padded_train, y_train, epochs=40, batch_size=3000,\n",
        "         validation_data=(padded_test, y_test))\n",
        "print(\"fitting to the model is DONE!\")\n",
        "print_results(model)"
      ],
      "metadata": {
        "colab": {
          "base_uri": "https://localhost:8080/",
          "height": 1000
        },
        "id": "MssIFgkaty-m",
        "outputId": "4f771760-5f0a-4e7c-d57e-eb513bb45b3d"
      },
      "execution_count": null,
      "outputs": [
        {
          "output_type": "stream",
          "name": "stdout",
          "text": [
            "Epoch 1/40\n",
            "15/15 [==============================] - 39s 2s/step - loss: 0.6275 - accuracy: 0.6813 - val_loss: 0.5044 - val_accuracy: 0.7864\n",
            "Epoch 2/40\n",
            "15/15 [==============================] - 33s 2s/step - loss: 0.4936 - accuracy: 0.7893 - val_loss: 0.4319 - val_accuracy: 0.8145\n",
            "Epoch 3/40\n",
            "15/15 [==============================] - 32s 2s/step - loss: 0.4429 - accuracy: 0.8133 - val_loss: 0.4520 - val_accuracy: 0.8136\n",
            "Epoch 4/40\n",
            "15/15 [==============================] - 33s 2s/step - loss: 0.4065 - accuracy: 0.8320 - val_loss: 0.3824 - val_accuracy: 0.8333\n",
            "Epoch 5/40\n",
            "15/15 [==============================] - 33s 2s/step - loss: 0.4264 - accuracy: 0.8000 - val_loss: 0.3804 - val_accuracy: 0.8269\n",
            "Epoch 6/40\n",
            "15/15 [==============================] - 32s 2s/step - loss: 0.3787 - accuracy: 0.8287 - val_loss: 0.3872 - val_accuracy: 0.8177\n",
            "Epoch 7/40\n",
            "15/15 [==============================] - 32s 2s/step - loss: 0.3573 - accuracy: 0.8412 - val_loss: 0.3629 - val_accuracy: 0.8234\n",
            "Epoch 8/40\n",
            "15/15 [==============================] - 33s 2s/step - loss: 0.3505 - accuracy: 0.8389 - val_loss: 0.3469 - val_accuracy: 0.8255\n",
            "Epoch 9/40\n",
            "15/15 [==============================] - 34s 2s/step - loss: 0.3423 - accuracy: 0.8525 - val_loss: 0.3892 - val_accuracy: 0.8269\n",
            "Epoch 10/40\n",
            "15/15 [==============================] - 33s 2s/step - loss: 0.3287 - accuracy: 0.8618 - val_loss: 0.3505 - val_accuracy: 0.8253\n",
            "Epoch 11/40\n",
            "15/15 [==============================] - 32s 2s/step - loss: 0.3219 - accuracy: 0.8584 - val_loss: 0.3506 - val_accuracy: 0.8240\n",
            "Epoch 12/40\n",
            "15/15 [==============================] - 32s 2s/step - loss: 0.3182 - accuracy: 0.8525 - val_loss: 0.3359 - val_accuracy: 0.8314\n",
            "Epoch 13/40\n",
            "15/15 [==============================] - 33s 2s/step - loss: 0.3110 - accuracy: 0.8592 - val_loss: 0.3369 - val_accuracy: 0.8313\n",
            "Epoch 14/40\n",
            "15/15 [==============================] - 33s 2s/step - loss: 0.3592 - accuracy: 0.8270 - val_loss: 0.3571 - val_accuracy: 0.8330\n",
            "Epoch 15/40\n",
            "15/15 [==============================] - 33s 2s/step - loss: 0.3579 - accuracy: 0.8564 - val_loss: 0.3804 - val_accuracy: 0.8248\n",
            "Epoch 16/40\n",
            "15/15 [==============================] - 34s 2s/step - loss: 0.3271 - accuracy: 0.8618 - val_loss: 0.3417 - val_accuracy: 0.8289\n",
            "Epoch 17/40\n",
            "15/15 [==============================] - 33s 2s/step - loss: 0.3094 - accuracy: 0.8606 - val_loss: 0.3339 - val_accuracy: 0.8327\n",
            "Epoch 18/40\n",
            "15/15 [==============================] - 33s 2s/step - loss: 0.3016 - accuracy: 0.8640 - val_loss: 0.3334 - val_accuracy: 0.8428\n",
            "Epoch 19/40\n",
            "15/15 [==============================] - 34s 2s/step - loss: 0.3007 - accuracy: 0.8669 - val_loss: 0.3198 - val_accuracy: 0.8515\n",
            "Epoch 20/40\n",
            "15/15 [==============================] - 32s 2s/step - loss: 0.2952 - accuracy: 0.8682 - val_loss: 0.3170 - val_accuracy: 0.8559\n",
            "Epoch 21/40\n",
            "15/15 [==============================] - 33s 2s/step - loss: 0.2927 - accuracy: 0.8708 - val_loss: 0.3236 - val_accuracy: 0.8630\n",
            "Epoch 22/40\n",
            "15/15 [==============================] - 33s 2s/step - loss: 0.3032 - accuracy: 0.8665 - val_loss: 0.3126 - val_accuracy: 0.8583\n",
            "Epoch 23/40\n",
            "15/15 [==============================] - 33s 2s/step - loss: 0.2907 - accuracy: 0.8725 - val_loss: 0.3364 - val_accuracy: 0.8351\n",
            "Epoch 24/40\n",
            "15/15 [==============================] - 33s 2s/step - loss: 0.2917 - accuracy: 0.8742 - val_loss: 0.3150 - val_accuracy: 0.8589\n",
            "Epoch 25/40\n",
            "15/15 [==============================] - 33s 2s/step - loss: 0.2841 - accuracy: 0.8776 - val_loss: 0.3024 - val_accuracy: 0.8667\n",
            "Epoch 26/40\n",
            "15/15 [==============================] - 32s 2s/step - loss: 0.2800 - accuracy: 0.8800 - val_loss: 0.2945 - val_accuracy: 0.8697\n",
            "Epoch 27/40\n",
            "15/15 [==============================] - 33s 2s/step - loss: 0.2745 - accuracy: 0.8815 - val_loss: 0.2889 - val_accuracy: 0.8716\n",
            "Epoch 28/40\n",
            "15/15 [==============================] - 34s 2s/step - loss: 0.2746 - accuracy: 0.8817 - val_loss: 0.2881 - val_accuracy: 0.8698\n",
            "Epoch 29/40\n",
            "15/15 [==============================] - 33s 2s/step - loss: 0.2706 - accuracy: 0.8836 - val_loss: 0.2767 - val_accuracy: 0.8766\n",
            "Epoch 30/40\n",
            "15/15 [==============================] - 32s 2s/step - loss: 0.2691 - accuracy: 0.8850 - val_loss: 0.2681 - val_accuracy: 0.8834\n",
            "Epoch 31/40\n",
            "15/15 [==============================] - 32s 2s/step - loss: 0.2665 - accuracy: 0.8848 - val_loss: 0.2869 - val_accuracy: 0.8699\n",
            "Epoch 32/40\n",
            "15/15 [==============================] - 33s 2s/step - loss: 0.2667 - accuracy: 0.8861 - val_loss: 0.2806 - val_accuracy: 0.8737\n",
            "Epoch 33/40\n",
            "15/15 [==============================] - 33s 2s/step - loss: 0.2667 - accuracy: 0.8844 - val_loss: 0.2652 - val_accuracy: 0.8836\n",
            "Epoch 34/40\n",
            "15/15 [==============================] - 32s 2s/step - loss: 0.2630 - accuracy: 0.8871 - val_loss: 0.2768 - val_accuracy: 0.8763\n",
            "Epoch 35/40\n",
            "15/15 [==============================] - 33s 2s/step - loss: 0.2622 - accuracy: 0.8885 - val_loss: 0.2680 - val_accuracy: 0.8818\n",
            "Epoch 36/40\n",
            "15/15 [==============================] - 32s 2s/step - loss: 0.2613 - accuracy: 0.8879 - val_loss: 0.2583 - val_accuracy: 0.8864\n",
            "Epoch 37/40\n",
            "15/15 [==============================] - 32s 2s/step - loss: 0.2594 - accuracy: 0.8889 - val_loss: 0.2626 - val_accuracy: 0.8833\n",
            "Epoch 38/40\n",
            "15/15 [==============================] - 34s 2s/step - loss: 0.2595 - accuracy: 0.8895 - val_loss: 0.2690 - val_accuracy: 0.8801\n",
            "Epoch 39/40\n",
            "15/15 [==============================] - 33s 2s/step - loss: 0.2582 - accuracy: 0.8908 - val_loss: 0.2603 - val_accuracy: 0.8850\n",
            "Epoch 40/40\n",
            "15/15 [==============================] - 32s 2s/step - loss: 0.2570 - accuracy: 0.8896 - val_loss: 0.2702 - val_accuracy: 0.8770\n",
            "fitting to the model is DONE!\n"
          ]
        },
        {
          "output_type": "execute_result",
          "data": {
            "text/plain": [
              "                     Fake      True  accuracy  macro avg  weighted avg\n",
              "data  index                                                           \n",
              "TEST  precision      0.87      0.88      0.88       0.88          0.88\n",
              "      recall         0.81      0.92      0.88       0.87          0.88\n",
              "      f1-score       0.84      0.90      0.88       0.87          0.88\n",
              "      support     8719.00  13194.00      0.88   21913.00      21913.00\n",
              "TRAIN precision      0.90      0.89      0.89       0.90          0.89\n",
              "      recall         0.82      0.94      0.89       0.88          0.89\n",
              "      f1-score       0.86      0.91      0.89       0.89          0.89\n",
              "      support    17502.00  26987.00      0.89   44489.00      44489.00"
            ],
            "text/html": [
              "\n",
              "  <div id=\"df-12a2c92b-2e22-4c37-9ac0-81319246d7d1\">\n",
              "    <div class=\"colab-df-container\">\n",
              "      <div>\n",
              "<style scoped>\n",
              "    .dataframe tbody tr th:only-of-type {\n",
              "        vertical-align: middle;\n",
              "    }\n",
              "\n",
              "    .dataframe tbody tr th {\n",
              "        vertical-align: top;\n",
              "    }\n",
              "\n",
              "    .dataframe thead th {\n",
              "        text-align: right;\n",
              "    }\n",
              "</style>\n",
              "<table border=\"1\" class=\"dataframe\">\n",
              "  <thead>\n",
              "    <tr style=\"text-align: right;\">\n",
              "      <th></th>\n",
              "      <th></th>\n",
              "      <th>Fake</th>\n",
              "      <th>True</th>\n",
              "      <th>accuracy</th>\n",
              "      <th>macro avg</th>\n",
              "      <th>weighted avg</th>\n",
              "    </tr>\n",
              "    <tr>\n",
              "      <th>data</th>\n",
              "      <th>index</th>\n",
              "      <th></th>\n",
              "      <th></th>\n",
              "      <th></th>\n",
              "      <th></th>\n",
              "      <th></th>\n",
              "    </tr>\n",
              "  </thead>\n",
              "  <tbody>\n",
              "    <tr>\n",
              "      <th rowspan=\"4\" valign=\"top\">TEST</th>\n",
              "      <th>precision</th>\n",
              "      <td>0.87</td>\n",
              "      <td>0.88</td>\n",
              "      <td>0.88</td>\n",
              "      <td>0.88</td>\n",
              "      <td>0.88</td>\n",
              "    </tr>\n",
              "    <tr>\n",
              "      <th>recall</th>\n",
              "      <td>0.81</td>\n",
              "      <td>0.92</td>\n",
              "      <td>0.88</td>\n",
              "      <td>0.87</td>\n",
              "      <td>0.88</td>\n",
              "    </tr>\n",
              "    <tr>\n",
              "      <th>f1-score</th>\n",
              "      <td>0.84</td>\n",
              "      <td>0.90</td>\n",
              "      <td>0.88</td>\n",
              "      <td>0.87</td>\n",
              "      <td>0.88</td>\n",
              "    </tr>\n",
              "    <tr>\n",
              "      <th>support</th>\n",
              "      <td>8719.00</td>\n",
              "      <td>13194.00</td>\n",
              "      <td>0.88</td>\n",
              "      <td>21913.00</td>\n",
              "      <td>21913.00</td>\n",
              "    </tr>\n",
              "    <tr>\n",
              "      <th rowspan=\"4\" valign=\"top\">TRAIN</th>\n",
              "      <th>precision</th>\n",
              "      <td>0.90</td>\n",
              "      <td>0.89</td>\n",
              "      <td>0.89</td>\n",
              "      <td>0.90</td>\n",
              "      <td>0.89</td>\n",
              "    </tr>\n",
              "    <tr>\n",
              "      <th>recall</th>\n",
              "      <td>0.82</td>\n",
              "      <td>0.94</td>\n",
              "      <td>0.89</td>\n",
              "      <td>0.88</td>\n",
              "      <td>0.89</td>\n",
              "    </tr>\n",
              "    <tr>\n",
              "      <th>f1-score</th>\n",
              "      <td>0.86</td>\n",
              "      <td>0.91</td>\n",
              "      <td>0.89</td>\n",
              "      <td>0.89</td>\n",
              "      <td>0.89</td>\n",
              "    </tr>\n",
              "    <tr>\n",
              "      <th>support</th>\n",
              "      <td>17502.00</td>\n",
              "      <td>26987.00</td>\n",
              "      <td>0.89</td>\n",
              "      <td>44489.00</td>\n",
              "      <td>44489.00</td>\n",
              "    </tr>\n",
              "  </tbody>\n",
              "</table>\n",
              "</div>\n",
              "      <button class=\"colab-df-convert\" onclick=\"convertToInteractive('df-12a2c92b-2e22-4c37-9ac0-81319246d7d1')\"\n",
              "              title=\"Convert this dataframe to an interactive table.\"\n",
              "              style=\"display:none;\">\n",
              "        \n",
              "  <svg xmlns=\"http://www.w3.org/2000/svg\" height=\"24px\"viewBox=\"0 0 24 24\"\n",
              "       width=\"24px\">\n",
              "    <path d=\"M0 0h24v24H0V0z\" fill=\"none\"/>\n",
              "    <path d=\"M18.56 5.44l.94 2.06.94-2.06 2.06-.94-2.06-.94-.94-2.06-.94 2.06-2.06.94zm-11 1L8.5 8.5l.94-2.06 2.06-.94-2.06-.94L8.5 2.5l-.94 2.06-2.06.94zm10 10l.94 2.06.94-2.06 2.06-.94-2.06-.94-.94-2.06-.94 2.06-2.06.94z\"/><path d=\"M17.41 7.96l-1.37-1.37c-.4-.4-.92-.59-1.43-.59-.52 0-1.04.2-1.43.59L10.3 9.45l-7.72 7.72c-.78.78-.78 2.05 0 2.83L4 21.41c.39.39.9.59 1.41.59.51 0 1.02-.2 1.41-.59l7.78-7.78 2.81-2.81c.8-.78.8-2.07 0-2.86zM5.41 20L4 18.59l7.72-7.72 1.47 1.35L5.41 20z\"/>\n",
              "  </svg>\n",
              "      </button>\n",
              "      \n",
              "  <style>\n",
              "    .colab-df-container {\n",
              "      display:flex;\n",
              "      flex-wrap:wrap;\n",
              "      gap: 12px;\n",
              "    }\n",
              "\n",
              "    .colab-df-convert {\n",
              "      background-color: #E8F0FE;\n",
              "      border: none;\n",
              "      border-radius: 50%;\n",
              "      cursor: pointer;\n",
              "      display: none;\n",
              "      fill: #1967D2;\n",
              "      height: 32px;\n",
              "      padding: 0 0 0 0;\n",
              "      width: 32px;\n",
              "    }\n",
              "\n",
              "    .colab-df-convert:hover {\n",
              "      background-color: #E2EBFA;\n",
              "      box-shadow: 0px 1px 2px rgba(60, 64, 67, 0.3), 0px 1px 3px 1px rgba(60, 64, 67, 0.15);\n",
              "      fill: #174EA6;\n",
              "    }\n",
              "\n",
              "    [theme=dark] .colab-df-convert {\n",
              "      background-color: #3B4455;\n",
              "      fill: #D2E3FC;\n",
              "    }\n",
              "\n",
              "    [theme=dark] .colab-df-convert:hover {\n",
              "      background-color: #434B5C;\n",
              "      box-shadow: 0px 1px 3px 1px rgba(0, 0, 0, 0.15);\n",
              "      filter: drop-shadow(0px 1px 2px rgba(0, 0, 0, 0.3));\n",
              "      fill: #FFFFFF;\n",
              "    }\n",
              "  </style>\n",
              "\n",
              "      <script>\n",
              "        const buttonEl =\n",
              "          document.querySelector('#df-12a2c92b-2e22-4c37-9ac0-81319246d7d1 button.colab-df-convert');\n",
              "        buttonEl.style.display =\n",
              "          google.colab.kernel.accessAllowed ? 'block' : 'none';\n",
              "\n",
              "        async function convertToInteractive(key) {\n",
              "          const element = document.querySelector('#df-12a2c92b-2e22-4c37-9ac0-81319246d7d1');\n",
              "          const dataTable =\n",
              "            await google.colab.kernel.invokeFunction('convertToInteractive',\n",
              "                                                     [key], {});\n",
              "          if (!dataTable) return;\n",
              "\n",
              "          const docLinkHtml = 'Like what you see? Visit the ' +\n",
              "            '<a target=\"_blank\" href=https://colab.research.google.com/notebooks/data_table.ipynb>data table notebook</a>'\n",
              "            + ' to learn more about interactive tables.';\n",
              "          element.innerHTML = '';\n",
              "          dataTable['output_type'] = 'display_data';\n",
              "          await google.colab.output.renderOutput(dataTable, element);\n",
              "          const docLink = document.createElement('div');\n",
              "          docLink.innerHTML = docLinkHtml;\n",
              "          element.appendChild(docLink);\n",
              "        }\n",
              "      </script>\n",
              "    </div>\n",
              "  </div>\n",
              "  "
            ]
          },
          "metadata": {},
          "execution_count": 14
        },
        {
          "output_type": "display_data",
          "data": {
            "text/plain": [
              "<Figure size 720x720 with 6 Axes>"
            ],
            "image/png": "[encoded data removed]"
          },
          "metadata": {}
        }
      ]
    },
    {
      "cell_type": "code",
      "source": [
        "import pickle\n",
        "from joblib import dump, load\n",
        "dump(model, '/content/drive/MyDrive/Fake-Real-News-Classification/pickled_nn_models/model__nn_glove.joblib')"
      ],
      "metadata": {
        "colab": {
          "base_uri": "https://localhost:8080/"
        },
        "id": "B7Z3_FcblYTU",
        "outputId": "45a7da9d-62a1-4496-8dae-b4ad324f9d6d"
      },
      "execution_count": null,
      "outputs": [
        {
          "output_type": "stream",
          "name": "stdout",
          "text": [
            "INFO:tensorflow:Assets written to: ram://62078037-38f8-4f89-97de-9487083fad15/assets\n"
          ]
        },
        {
          "output_type": "stream",
          "name": "stderr",
          "text": [
            "WARNING:absl:<keras.layers.recurrent.LSTMCell object at 0x7efd89e21110> has the same name 'LSTMCell' as a built-in Keras object. Consider renaming <class 'keras.layers.recurrent.LSTMCell'> to avoid naming conflicts when loading with `tf.keras.models.load_model`. If renaming is not possible, pass the object in the `custom_objects` parameter of the load function.\n",
            "WARNING:absl:<keras.layers.recurrent.LSTMCell object at 0x7efd89e58b10> has the same name 'LSTMCell' as a built-in Keras object. Consider renaming <class 'keras.layers.recurrent.LSTMCell'> to avoid naming conflicts when loading with `tf.keras.models.load_model`. If renaming is not possible, pass the object in the `custom_objects` parameter of the load function.\n"
          ]
        },
        {
          "output_type": "execute_result",
          "data": {
            "text/plain": [
              "['/content/drive/MyDrive/Fake-Real-News-Classification/pickled_nn_models/model__nn_glove.joblib']"
            ]
          },
          "metadata": {},
          "execution_count": 15
        }
      ]
    },
    {
      "cell_type": "code",
      "source": [
        ""
      ],
      "metadata": {
        "id": "qQJC83pqldFz"
      },
      "execution_count": null,
      "outputs": []
    }
  ],
  "metadata": {
    "colab": {
      "collapsed_sections": [],
      "name": "Modeling_NN_GloVe_LSTM.ipynb",
      "provenance": []
    },
    "gpuClass": "standard",
    "kernelspec": {
      "display_name": "Python 3",
      "name": "python3"
    },
    "language_info": {
      "name": "python"
    },
    "accelerator": "GPU"
  },
  "nbformat": 4,
  "nbformat_minor": 0
}