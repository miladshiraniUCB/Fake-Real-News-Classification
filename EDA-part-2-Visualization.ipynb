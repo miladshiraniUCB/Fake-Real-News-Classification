{
 "cells": [
  {
   "cell_type": "markdown",
   "metadata": {},
   "source": [
    "# Importing Libraries"
   ]
  },
  {
   "cell_type": "markdown",
   "metadata": {},
   "source": [
    "We are going to import the following libraries"
   ]
  },
  {
   "cell_type": "code",
   "execution_count": 20,
   "metadata": {},
   "outputs": [],
   "source": [
    "import os\n",
    "import numpy as np\n",
    "from glob import glob\n",
    "import pandas as pd\n",
    "\n",
    "import string\n",
    "\n",
    "from scipy import stats\n",
    "from scipy.stats import f_oneway\n",
    "from statsmodels.stats.multicomp import pairwise_tukeyhsd\n",
    "\n",
    "import nltk\n",
    "from nltk import FreqDist\n",
    "\n",
    "from sklearn.utils import shuffle\n",
    "import seaborn as sns\n",
    "import matplotlib.pyplot as plt\n",
    "from matplotlib.ticker import MaxNLocator\n",
    "from sklearn.model_selection import train_test_split\n",
    "from sklearn.preprocessing import LabelEncoder\n",
    "\n",
    "\n",
    "%matplotlib inline\n",
    "\n",
    "import warnings\n",
    "warnings.filterwarnings('ignore')"
   ]
  },
  {
   "cell_type": "markdown",
   "metadata": {},
   "source": [
    "# Functions"
   ]
  },
  {
   "cell_type": "markdown",
   "metadata": {},
   "source": [
    "In the next section, we need to do some data cleaning, checking the null values of each row , and join each token to make a cleaned text."
   ]
  },
  {
   "cell_type": "code",
   "execution_count": 2,
   "metadata": {},
   "outputs": [],
   "source": [
    "def new_cleaning(data):\n",
    "\n",
    "\n",
    "    cleaned_data = data.replace(\"[\", \"\").replace(\"]\", \"\").replace(\"'\", \"\")\\\n",
    "                                    .replace(\" \", \"\").split(\",\")\n",
    "    \n",
    "    \n",
    "    return cleaned_data"
   ]
  },
  {
   "cell_type": "code",
   "execution_count": 3,
   "metadata": {},
   "outputs": [],
   "source": [
    "def null_finder(row):\n",
    "    if type(row) is dict:\n",
    "        a = row.values()\n",
    "        row = sum([int(bool(item)) for item in a])\n",
    "    elif type(row) is list:\n",
    "        row = sum([int(bool(item)) for item in row])\n",
    "    else:\n",
    "        row = int(row is np.nan)\n",
    "    return row"
   ]
  },
  {
   "cell_type": "markdown",
   "metadata": {},
   "source": [
    "# Importing Tokenized Data"
   ]
  },
  {
   "cell_type": "markdown",
   "metadata": {},
   "source": [
    "In this section, we will import the data that we cleaned in \"EDA-part-1-Cleaning-Tokenization-Lammatization\" notebook and will concatenate all the dataframes to each other to make one dataframe. Also, we will shuffle the rows to make sure that the data are shuffled in the dataframe. "
   ]
  },
  {
   "cell_type": "code",
   "execution_count": 4,
   "metadata": {},
   "outputs": [
    {
     "name": "stdout",
     "output_type": "stream",
     "text": [
      "DONE!\n"
     ]
    }
   ],
   "source": [
    "csv_files = glob(\"./cleaned/*.csv\")\n",
    "csv_files\n",
    "\n",
    "csv_files_dict = {}\n",
    "for filename in csv_files:\n",
    "    filename_cleaned = (os.path.basename(filename)\n",
    "                          .replace(\".csv\", \"\")\n",
    "                          .replace(\".\", \"_\"))  #cleaning the filenames\n",
    "    filename_df = pd.read_csv(filename, index_col=0)\n",
    "    csv_files_dict[filename_cleaned] = filename_df\n",
    "all_df ={}\n",
    "for item in csv_files_dict:\n",
    "    all_df[item] = csv_files_dict[item].drop_duplicates().reset_index(drop=True)\n",
    "    \n",
    "    \n",
    "print(\"DONE!\")    "
   ]
  },
  {
   "cell_type": "code",
   "execution_count": 5,
   "metadata": {},
   "outputs": [
    {
     "name": "stdout",
     "output_type": "stream",
     "text": [
      "gossip 0\n",
      "fake_true 0\n",
      "articles_en 0\n",
      "news 0\n"
     ]
    }
   ],
   "source": [
    "for item in all_df:\n",
    "    all_df[item][\"is_null\"] = all_df[item][\"cleaned\"].apply(lambda x: null_finder(x))\n",
    "    print(item, len(all_df[item].loc[all_df[item][\"is_null\"] != 0] ))"
   ]
  },
  {
   "cell_type": "code",
   "execution_count": 6,
   "metadata": {},
   "outputs": [
    {
     "name": "stdout",
     "output_type": "stream",
     "text": [
      "DONE!\n"
     ]
    }
   ],
   "source": [
    "data_frames = ['fake_true', 'articles_en', 'news']\n",
    "df = all_df['gossip'].copy()\n",
    "\n",
    "\n",
    "for item in data_frames:\n",
    "    df = pd.concat([df, all_df[item]], axis = 0)\n",
    "    \n",
    "df.drop(\"is_null\", axis = 1, inplace = True)   \n",
    "df = df.sample(frac = 1)\n",
    "\n",
    "print(\"DONE!\")"
   ]
  },
  {
   "cell_type": "code",
   "execution_count": 7,
   "metadata": {},
   "outputs": [
    {
     "data": {
      "text/plain": [
       "True    0.605117\n",
       "Fake    0.394883\n",
       "Name: label, dtype: float64"
      ]
     },
     "execution_count": 7,
     "metadata": {},
     "output_type": "execute_result"
    }
   ],
   "source": [
    "df.label.value_counts(normalize = True)"
   ]
  },
  {
   "cell_type": "code",
   "execution_count": 8,
   "metadata": {},
   "outputs": [
    {
     "name": "stdout",
     "output_type": "stream",
     "text": [
      "DONE!\n"
     ]
    }
   ],
   "source": [
    "df[\"cleaned\"] = df[\"cleaned\"].apply(lambda x: new_cleaning(x))\n",
    "df[\"for_glove\"] = df[\"for_glove\"].apply(lambda x: new_cleaning(x))\n",
    "df[\"cleaned_text\"] = df[\"cleaned\"].apply(lambda x: \" \".join(x))\n",
    "\n",
    "print(\"DONE!\")"
   ]
  },
  {
   "cell_type": "code",
   "execution_count": 9,
   "metadata": {},
   "outputs": [],
   "source": [
    "df.to_csv(\"../EDA/cleaned_all/cleaned_all.csv\")"
   ]
  },
  {
   "cell_type": "code",
   "execution_count": 10,
   "metadata": {},
   "outputs": [
    {
     "data": {
      "text/html": [
       "<div>\n",
       "<style scoped>\n",
       "    .dataframe tbody tr th:only-of-type {\n",
       "        vertical-align: middle;\n",
       "    }\n",
       "\n",
       "    .dataframe tbody tr th {\n",
       "        vertical-align: top;\n",
       "    }\n",
       "\n",
       "    .dataframe thead th {\n",
       "        text-align: right;\n",
       "    }\n",
       "</style>\n",
       "<table border=\"1\" class=\"dataframe\">\n",
       "  <thead>\n",
       "    <tr style=\"text-align: right;\">\n",
       "      <th></th>\n",
       "      <th>text</th>\n",
       "      <th>label</th>\n",
       "      <th>cleaned</th>\n",
       "      <th>for_glove</th>\n",
       "      <th>num_urls</th>\n",
       "      <th>neg</th>\n",
       "      <th>neu</th>\n",
       "      <th>pos</th>\n",
       "      <th>compound</th>\n",
       "      <th>cleaned_text</th>\n",
       "    </tr>\n",
       "  </thead>\n",
       "  <tbody>\n",
       "    <tr>\n",
       "      <th>24551</th>\n",
       "      <td>LIMA (Reuters) - U.S. President Barack Obama a...</td>\n",
       "      <td>True</td>\n",
       "      <td>[lima, reuters, president, barack, obama, russ...</td>\n",
       "      <td>[LIMA, Reuters, President, Barack, Obama, and,...</td>\n",
       "      <td>4</td>\n",
       "      <td>0.039</td>\n",
       "      <td>0.818</td>\n",
       "      <td>0.143</td>\n",
       "      <td>0.9869</td>\n",
       "      <td>lima reuters president barack obama russian co...</td>\n",
       "    </tr>\n",
       "    <tr>\n",
       "      <th>15622</th>\n",
       "      <td>NBC has saved Brooklyn Nine-Nine a day after F...</td>\n",
       "      <td>True</td>\n",
       "      <td>[nbc, save, brooklyn, nine, nine, day, fox, ca...</td>\n",
       "      <td>[NBC, has, saved, Brooklyn, Nine, Nine, a, day...</td>\n",
       "      <td>0</td>\n",
       "      <td>0.000</td>\n",
       "      <td>0.763</td>\n",
       "      <td>0.237</td>\n",
       "      <td>0.4215</td>\n",
       "      <td>nbc save brooklyn nine nine day fox cancel</td>\n",
       "    </tr>\n",
       "    <tr>\n",
       "      <th>1262</th>\n",
       "      <td>(CNN) Mitt Romney delivered a sweeping broadsi...</td>\n",
       "      <td>True</td>\n",
       "      <td>[cnn, mitt, romney, deliver, sweep, broadside,...</td>\n",
       "      <td>[CNN, Mitt, Romney, delivered, a, sweeping, br...</td>\n",
       "      <td>1</td>\n",
       "      <td>0.131</td>\n",
       "      <td>0.770</td>\n",
       "      <td>0.099</td>\n",
       "      <td>-0.9957</td>\n",
       "      <td>cnn mitt romney deliver sweep broadside donald...</td>\n",
       "    </tr>\n",
       "    <tr>\n",
       "      <th>14098</th>\n",
       "      <td>There is no other President in the history of ...</td>\n",
       "      <td>Fake</td>\n",
       "      <td>[president, history, unite, state, master, art...</td>\n",
       "      <td>[There, is, no, other, President, in, the, his...</td>\n",
       "      <td>17</td>\n",
       "      <td>0.039</td>\n",
       "      <td>0.877</td>\n",
       "      <td>0.084</td>\n",
       "      <td>0.9874</td>\n",
       "      <td>president history unite state master art go ar...</td>\n",
       "    </tr>\n",
       "    <tr>\n",
       "      <th>27240</th>\n",
       "      <td>(Reuters) - U.S. Senator Elizabeth Warren, a f...</td>\n",
       "      <td>True</td>\n",
       "      <td>[reuters, senator, elizabeth, warren, firebran...</td>\n",
       "      <td>[Reuters, Senator, Elizabeth, Warren, a, fireb...</td>\n",
       "      <td>3</td>\n",
       "      <td>0.050</td>\n",
       "      <td>0.830</td>\n",
       "      <td>0.120</td>\n",
       "      <td>0.9777</td>\n",
       "      <td>reuters senator elizabeth warren firebrand str...</td>\n",
       "    </tr>\n",
       "  </tbody>\n",
       "</table>\n",
       "</div>"
      ],
      "text/plain": [
       "                                                    text label  \\\n",
       "24551  LIMA (Reuters) - U.S. President Barack Obama a...  True   \n",
       "15622  NBC has saved Brooklyn Nine-Nine a day after F...  True   \n",
       "1262   (CNN) Mitt Romney delivered a sweeping broadsi...  True   \n",
       "14098  There is no other President in the history of ...  Fake   \n",
       "27240  (Reuters) - U.S. Senator Elizabeth Warren, a f...  True   \n",
       "\n",
       "                                                 cleaned  \\\n",
       "24551  [lima, reuters, president, barack, obama, russ...   \n",
       "15622  [nbc, save, brooklyn, nine, nine, day, fox, ca...   \n",
       "1262   [cnn, mitt, romney, deliver, sweep, broadside,...   \n",
       "14098  [president, history, unite, state, master, art...   \n",
       "27240  [reuters, senator, elizabeth, warren, firebran...   \n",
       "\n",
       "                                               for_glove  num_urls    neg  \\\n",
       "24551  [LIMA, Reuters, President, Barack, Obama, and,...         4  0.039   \n",
       "15622  [NBC, has, saved, Brooklyn, Nine, Nine, a, day...         0  0.000   \n",
       "1262   [CNN, Mitt, Romney, delivered, a, sweeping, br...         1  0.131   \n",
       "14098  [There, is, no, other, President, in, the, his...        17  0.039   \n",
       "27240  [Reuters, Senator, Elizabeth, Warren, a, fireb...         3  0.050   \n",
       "\n",
       "         neu    pos  compound  \\\n",
       "24551  0.818  0.143    0.9869   \n",
       "15622  0.763  0.237    0.4215   \n",
       "1262   0.770  0.099   -0.9957   \n",
       "14098  0.877  0.084    0.9874   \n",
       "27240  0.830  0.120    0.9777   \n",
       "\n",
       "                                            cleaned_text  \n",
       "24551  lima reuters president barack obama russian co...  \n",
       "15622         nbc save brooklyn nine nine day fox cancel  \n",
       "1262   cnn mitt romney deliver sweep broadside donald...  \n",
       "14098  president history unite state master art go ar...  \n",
       "27240  reuters senator elizabeth warren firebrand str...  "
      ]
     },
     "execution_count": 10,
     "metadata": {},
     "output_type": "execute_result"
    }
   ],
   "source": [
    "df.head()"
   ]
  },
  {
   "cell_type": "markdown",
   "metadata": {},
   "source": [
    "# Some Statistical Tests"
   ]
  },
  {
   "cell_type": "markdown",
   "metadata": {},
   "source": [
    "In the previous notebook, we added 4 columns to the dataframe which we got them by performing sentiment analysis on the text by using NLTK. In this section, we want to know if they are from a same population or not. The reason is that if they are from a same population, then they may not be independent. In order to check if they are from a same population or not, we perform f-tests, ANOVA test and Tukey test. "
   ]
  },
  {
   "cell_type": "code",
   "execution_count": 11,
   "metadata": {},
   "outputs": [
    {
     "data": {
      "text/html": [
       "<div>\n",
       "<style scoped>\n",
       "    .dataframe tbody tr th:only-of-type {\n",
       "        vertical-align: middle;\n",
       "    }\n",
       "\n",
       "    .dataframe tbody tr th {\n",
       "        vertical-align: top;\n",
       "    }\n",
       "\n",
       "    .dataframe thead th {\n",
       "        text-align: right;\n",
       "    }\n",
       "</style>\n",
       "<table border=\"1\" class=\"dataframe\">\n",
       "  <thead>\n",
       "    <tr style=\"text-align: right;\">\n",
       "      <th></th>\n",
       "      <th>count</th>\n",
       "      <th>mean</th>\n",
       "      <th>std</th>\n",
       "      <th>min</th>\n",
       "      <th>25%</th>\n",
       "      <th>50%</th>\n",
       "      <th>75%</th>\n",
       "      <th>max</th>\n",
       "    </tr>\n",
       "  </thead>\n",
       "  <tbody>\n",
       "    <tr>\n",
       "      <th>neg</th>\n",
       "      <td>66402.0</td>\n",
       "      <td>0.082164</td>\n",
       "      <td>0.083320</td>\n",
       "      <td>0.0</td>\n",
       "      <td>0.01000</td>\n",
       "      <td>0.068</td>\n",
       "      <td>0.118</td>\n",
       "      <td>0.773</td>\n",
       "    </tr>\n",
       "    <tr>\n",
       "      <th>neu</th>\n",
       "      <td>66402.0</td>\n",
       "      <td>0.825989</td>\n",
       "      <td>0.108917</td>\n",
       "      <td>0.0</td>\n",
       "      <td>0.77600</td>\n",
       "      <td>0.829</td>\n",
       "      <td>0.882</td>\n",
       "      <td>1.000</td>\n",
       "    </tr>\n",
       "    <tr>\n",
       "      <th>pos</th>\n",
       "      <td>66402.0</td>\n",
       "      <td>0.091800</td>\n",
       "      <td>0.088149</td>\n",
       "      <td>0.0</td>\n",
       "      <td>0.03600</td>\n",
       "      <td>0.079</td>\n",
       "      <td>0.119</td>\n",
       "      <td>1.000</td>\n",
       "    </tr>\n",
       "    <tr>\n",
       "      <th>compound</th>\n",
       "      <td>66402.0</td>\n",
       "      <td>0.024307</td>\n",
       "      <td>0.740548</td>\n",
       "      <td>-1.0</td>\n",
       "      <td>-0.79265</td>\n",
       "      <td>0.000</td>\n",
       "      <td>0.802</td>\n",
       "      <td>1.000</td>\n",
       "    </tr>\n",
       "  </tbody>\n",
       "</table>\n",
       "</div>"
      ],
      "text/plain": [
       "            count      mean       std  min      25%    50%    75%    max\n",
       "neg       66402.0  0.082164  0.083320  0.0  0.01000  0.068  0.118  0.773\n",
       "neu       66402.0  0.825989  0.108917  0.0  0.77600  0.829  0.882  1.000\n",
       "pos       66402.0  0.091800  0.088149  0.0  0.03600  0.079  0.119  1.000\n",
       "compound  66402.0  0.024307  0.740548 -1.0 -0.79265  0.000  0.802  1.000"
      ]
     },
     "execution_count": 11,
     "metadata": {},
     "output_type": "execute_result"
    }
   ],
   "source": [
    "df[['neg', 'neu', 'pos', 'compound']].describe().transpose()"
   ]
  },
  {
   "cell_type": "code",
   "execution_count": 12,
   "metadata": {},
   "outputs": [
    {
     "data": {
      "text/html": [
       "<div>\n",
       "<style scoped>\n",
       "    .dataframe tbody tr th:only-of-type {\n",
       "        vertical-align: middle;\n",
       "    }\n",
       "\n",
       "    .dataframe tbody tr th {\n",
       "        vertical-align: top;\n",
       "    }\n",
       "\n",
       "    .dataframe thead th {\n",
       "        text-align: right;\n",
       "    }\n",
       "</style>\n",
       "<table border=\"1\" class=\"dataframe\">\n",
       "  <thead>\n",
       "    <tr style=\"text-align: right;\">\n",
       "      <th></th>\n",
       "      <th>label</th>\n",
       "      <th>Fake</th>\n",
       "      <th>True</th>\n",
       "    </tr>\n",
       "  </thead>\n",
       "  <tbody>\n",
       "    <tr>\n",
       "      <th rowspan=\"2\" valign=\"top\">neg</th>\n",
       "      <th>mean</th>\n",
       "      <td>0.094198</td>\n",
       "      <td>0.074310</td>\n",
       "    </tr>\n",
       "    <tr>\n",
       "      <th>std</th>\n",
       "      <td>0.076694</td>\n",
       "      <td>0.086475</td>\n",
       "    </tr>\n",
       "    <tr>\n",
       "      <th rowspan=\"2\" valign=\"top\">neu</th>\n",
       "      <th>mean</th>\n",
       "      <td>0.815516</td>\n",
       "      <td>0.832823</td>\n",
       "    </tr>\n",
       "    <tr>\n",
       "      <th>std</th>\n",
       "      <td>0.095315</td>\n",
       "      <td>0.116437</td>\n",
       "    </tr>\n",
       "    <tr>\n",
       "      <th rowspan=\"2\" valign=\"top\">pos</th>\n",
       "      <th>mean</th>\n",
       "      <td>0.090207</td>\n",
       "      <td>0.092840</td>\n",
       "    </tr>\n",
       "    <tr>\n",
       "      <th>std</th>\n",
       "      <td>0.071515</td>\n",
       "      <td>0.097472</td>\n",
       "    </tr>\n",
       "    <tr>\n",
       "      <th rowspan=\"2\" valign=\"top\">compound</th>\n",
       "      <th>mean</th>\n",
       "      <td>-0.058503</td>\n",
       "      <td>0.078347</td>\n",
       "    </tr>\n",
       "    <tr>\n",
       "      <th>std</th>\n",
       "      <td>0.796490</td>\n",
       "      <td>0.696361</td>\n",
       "    </tr>\n",
       "  </tbody>\n",
       "</table>\n",
       "</div>"
      ],
      "text/plain": [
       "label              Fake      True\n",
       "neg      mean  0.094198  0.074310\n",
       "         std   0.076694  0.086475\n",
       "neu      mean  0.815516  0.832823\n",
       "         std   0.095315  0.116437\n",
       "pos      mean  0.090207  0.092840\n",
       "         std   0.071515  0.097472\n",
       "compound mean -0.058503  0.078347\n",
       "         std   0.796490  0.696361"
      ]
     },
     "execution_count": 12,
     "metadata": {},
     "output_type": "execute_result"
    }
   ],
   "source": [
    "df.groupby(\"label\")[['neg', 'neu', 'pos', 'compound']].agg([\"mean\", \"std\"]).transpose()"
   ]
  },
  {
   "cell_type": "markdown",
   "metadata": {},
   "source": [
    "## T-test for Fake/True label of each column"
   ]
  },
  {
   "cell_type": "code",
   "execution_count": 13,
   "metadata": {},
   "outputs": [
    {
     "name": "stdout",
     "output_type": "stream",
     "text": [
      "P-Value for Positive True-Fake:  6.122162262230507e-05\n",
      "P-Value for Negative True-Fake:  6.283795343379951e-210\n",
      "P-Value for Neutral  True-Fake:  6.254519304333822e-97\n",
      "P-Value for Compound True-Fake:  9.290492984915601e-114\n"
     ]
    }
   ],
   "source": [
    "pos_true = df[df[\"label\"] == \"True\"][\"pos\"]\n",
    "pos_fake = df[df[\"label\"] == \"Fake\"][\"pos\"]\n",
    "\n",
    "neg_true = df[df[\"label\"] == \"True\"][\"neg\"]\n",
    "neg_fake = df[df[\"label\"] == \"Fake\"][\"neg\"]\n",
    "\n",
    "neu_true = df[df[\"label\"] == \"True\"][\"neu\"]\n",
    "neu_fake = df[df[\"label\"] == \"Fake\"][\"neu\"]\n",
    "\n",
    "comp_true = df[df[\"label\"] == \"True\"][\"compound\"]\n",
    "comp_fake = df[df[\"label\"] == \"Fake\"][\"compound\"]\n",
    "\n",
    "t_tests_list = [(pos_true, pos_fake,\"Positive True-Fake\"), \n",
    "                (neg_true, neg_fake,\"Negative True-Fake\"),\n",
    "                (neu_true, neu_fake,\"Neutral  True-Fake\"),\n",
    "                (comp_true, comp_fake,\"Compound True-Fake\"),\n",
    "               ]\n",
    "\n",
    "for item in t_tests_list:\n",
    "    tStat, pValue = stats.ttest_ind(item[0], item[1], equal_var = False)\n",
    "    print(f\"P-Value for {item[2]}: \", pValue)"
   ]
  },
  {
   "cell_type": "markdown",
   "metadata": {},
   "source": [
    "## T-test for each column"
   ]
  },
  {
   "cell_type": "code",
   "execution_count": 14,
   "metadata": {},
   "outputs": [
    {
     "name": "stdout",
     "output_type": "stream",
     "text": [
      "P-Value for Positive and Negative  5.323483587329102e-93\n",
      "P-Value for Positive and Neutral   0.0\n",
      "P-Value for Positive and Compound  8.07854695296959e-120\n",
      "P-Value for Negative and Neutral   0.0\n",
      "P-Value for Negative and Compound  8.821817262691597e-89\n",
      "P-Value for Neutral  and Compound  0.0\n"
     ]
    }
   ],
   "source": [
    "ttest_all = [(\"pos\", \"neg\", \"Positive and Negative \"),\n",
    "            (\"pos\", \"neu\", \"Positive and Neutral  \"),\n",
    "            (\"pos\", \"compound\",\"Positive and Compound \"),\n",
    "            (\"neg\", \"neu\", \"Negative and Neutral  \"),\n",
    "            (\"neg\", \"compound\",\"Negative and Compound \"),\n",
    "            (\"neu\", \"compound\",\"Neutral  and Compound \")]\n",
    "\n",
    "for item in ttest_all:\n",
    "    \n",
    "    tStat, pValue = stats.ttest_ind(df[item[0]], df[item[1]], equal_var = False)\n",
    "    print(f\"P-Value for {item[2]}\", pValue)"
   ]
  },
  {
   "cell_type": "markdown",
   "metadata": {},
   "source": [
    "## ANOVA test for each column"
   ]
  },
  {
   "cell_type": "code",
   "execution_count": 15,
   "metadata": {},
   "outputs": [
    {
     "data": {
      "text/plain": [
       "0.0"
      ]
     },
     "execution_count": 15,
     "metadata": {},
     "output_type": "execute_result"
    }
   ],
   "source": [
    "from scipy.stats import f_oneway\n",
    "\n",
    "a = df[\"neg\"].values\n",
    "b = df[\"neu\"].values\n",
    "c = df[\"pos\"].values\n",
    "d = df[\"compound\"].values\n",
    "\n",
    "F, p = f_oneway(a, b, c, d)\n",
    "p"
   ]
  },
  {
   "cell_type": "markdown",
   "metadata": {},
   "source": [
    "## Tukey Test each column"
   ]
  },
  {
   "cell_type": "markdown",
   "metadata": {},
   "source": [
    "The Tukey's test results are in the following cell and the code is from [here](https://www.statology.org/tukey-test-python/)"
   ]
  },
  {
   "cell_type": "code",
   "execution_count": 16,
   "metadata": {},
   "outputs": [
    {
     "name": "stdout",
     "output_type": "stream",
     "text": [
      "Multiple Comparison of Means - Tukey HSD, FWER=0.05\n",
      "===================================================\n",
      "group1 group2 meandiff p-adj  lower   upper  reject\n",
      "---------------------------------------------------\n",
      "     a      b   0.7438 0.001  0.7385  0.7492   True\n",
      "     a      c   0.0096 0.001  0.0043   0.015   True\n",
      "     a      d  -0.0579 0.001 -0.0632 -0.0525   True\n",
      "     b      c  -0.7342 0.001 -0.7395 -0.7288   True\n",
      "     b      d  -0.8017 0.001  -0.807 -0.7963   True\n",
      "     c      d  -0.0675 0.001 -0.0728 -0.0621   True\n",
      "---------------------------------------------------\n"
     ]
    }
   ],
   "source": [
    "a = df[\"neg\"].values\n",
    "b = df[\"neu\"].values\n",
    "c = df[\"pos\"].values\n",
    "d = df[\"compound\"].values\n",
    "\n",
    "tukey_df = pd.DataFrame({\"score\":list(a) + list(b) + list(c) + list(d),\n",
    "                         \"groups\": np.repeat([\"a\", \"b\", \"c\", \"d\"], repeats = len(a))})\n",
    "\n",
    "tukey = pairwise_tukeyhsd(endog=tukey_df['score'],\n",
    "                          groups=tukey_df['groups'],\n",
    "                          alpha=0.05)\n",
    "\n",
    "#display results\n",
    "print(tukey)"
   ]
  },
  {
   "cell_type": "markdown",
   "metadata": {},
   "source": [
    "Therefore, we keep these columns in the our dataframe."
   ]
  },
  {
   "cell_type": "code",
   "execution_count": 20,
   "metadata": {},
   "outputs": [],
   "source": [
    "# figs, axes = plt.subplots(nrows= 2 , ncols=2, figsize = (20, 20))\n",
    "\n",
    "# figs.subplots_adjust(hspace=0.4, wspace=0.5)\n",
    "# sns.set(font_scale=2)\n",
    "# list_of_items = [\"neg\", \"neu\", \"pos\", \"compound\"]\n",
    "\n",
    "# for i, item in enumerate(list_of_items):\n",
    "#     ax = axes[i//2][i%2]\n",
    "#     sns.boxplot(x = \"label\", y = item, data = df, ax = ax);\n",
    "# #     sns.swarmplot(x=\"label\", y = item, data = df, color=\".25\", ax = ax);\n"
   ]
  },
  {
   "cell_type": "markdown",
   "metadata": {},
   "source": [
    "# Visualization"
   ]
  },
  {
   "cell_type": "code",
   "execution_count": 80,
   "metadata": {},
   "outputs": [],
   "source": [
    "import matplotlib.pyplot as plt\n",
    "from matplotlib.ticker import MaxNLocator\n",
    "\n",
    "def visualize_top_10(freq_dist, title):\n",
    "\n",
    "    # Extract data for plotting\n",
    "    top_10 = list(zip(*freq_dist.most_common(10)))\n",
    "    tokens = top_10[0]\n",
    "    counts = top_10[1]\n",
    "\n",
    "    # Set up plot and plot data\n",
    "    fig, ax = plt.subplots()\n",
    "    ax.bar(tokens, counts)\n",
    "\n",
    "    # Customize plot appearance\n",
    "    ax.set_title(title)\n",
    "    ax.set_ylabel(\"Count\")\n",
    "    ax.yaxis.set_major_locator(MaxNLocator(integer=True))\n",
    "    ax.tick_params(axis=\"x\", rotation=90)"
   ]
  },
  {
   "cell_type": "code",
   "execution_count": 23,
   "metadata": {},
   "outputs": [
    {
     "data": {
      "text/html": [
       "<div>\n",
       "<style scoped>\n",
       "    .dataframe tbody tr th:only-of-type {\n",
       "        vertical-align: middle;\n",
       "    }\n",
       "\n",
       "    .dataframe tbody tr th {\n",
       "        vertical-align: top;\n",
       "    }\n",
       "\n",
       "    .dataframe thead th {\n",
       "        text-align: right;\n",
       "    }\n",
       "</style>\n",
       "<table border=\"1\" class=\"dataframe\">\n",
       "  <thead>\n",
       "    <tr style=\"text-align: right;\">\n",
       "      <th></th>\n",
       "      <th>text</th>\n",
       "      <th>label</th>\n",
       "      <th>cleaned</th>\n",
       "      <th>for_glove</th>\n",
       "      <th>num_urls</th>\n",
       "      <th>neg</th>\n",
       "      <th>neu</th>\n",
       "      <th>pos</th>\n",
       "      <th>compound</th>\n",
       "      <th>cleaned_text</th>\n",
       "    </tr>\n",
       "  </thead>\n",
       "  <tbody>\n",
       "    <tr>\n",
       "      <th>3018</th>\n",
       "      <td>Jeb Bush’s resignation from the presidential r...</td>\n",
       "      <td>True</td>\n",
       "      <td>[jeb, bush, resignation, presidential, race, a...</td>\n",
       "      <td>[Jeb, Bush, s, resignation, from, the, preside...</td>\n",
       "      <td>2</td>\n",
       "      <td>0.065</td>\n",
       "      <td>0.805</td>\n",
       "      <td>0.131</td>\n",
       "      <td>0.9861</td>\n",
       "      <td>jeb bush resignation presidential race already...</td>\n",
       "    </tr>\n",
       "  </tbody>\n",
       "</table>\n",
       "</div>"
      ],
      "text/plain": [
       "                                                   text label  \\\n",
       "3018  Jeb Bush’s resignation from the presidential r...  True   \n",
       "\n",
       "                                                cleaned  \\\n",
       "3018  [jeb, bush, resignation, presidential, race, a...   \n",
       "\n",
       "                                              for_glove  num_urls    neg  \\\n",
       "3018  [Jeb, Bush, s, resignation, from, the, preside...         2  0.065   \n",
       "\n",
       "        neu    pos  compound  \\\n",
       "3018  0.805  0.131    0.9861   \n",
       "\n",
       "                                           cleaned_text  \n",
       "3018  jeb bush resignation presidential race already...  "
      ]
     },
     "execution_count": 23,
     "metadata": {},
     "output_type": "execute_result"
    }
   ],
   "source": [
    "df.head(1)"
   ]
  },
  {
   "cell_type": "code",
   "execution_count": 21,
   "metadata": {},
   "outputs": [
    {
     "data": {
      "image/png": "[encoded data removed]",
      "text/plain": [
       "<Figure size 1440x360 with 3 Axes>"
      ]
     },
     "metadata": {
      "needs_background": "light"
     },
     "output_type": "display_data"
    }
   ],
   "source": [
    "figs, axes = plt.subplots(nrows = 1 , ncols = 3, figsize = (20, 5))\n",
    "figs.subplots_adjust(hspace=0.4, wspace=0.5)\n",
    "sns.set(font_scale = 1.5)\n",
    "\n",
    "labels = [(\"All\", \"All\"), (\"Fake\", \"Fake\"), (\"True\", \"True\")]\n",
    "\n",
    "for i, label in enumerate(labels):\n",
    "    \n",
    "    if label[0] == \"All\":\n",
    "        ax = axes[i]\n",
    "        dist = FreqDist(df[\"cleaned\"].explode())\n",
    "        dist_df = pd.DataFrame(dist.most_common(10),columns=[\"token\",\"frequency\"])\n",
    "\n",
    "        g = sns.barplot(dist_df[\"token\"],\n",
    "                    dist_df[\"frequency\"],\n",
    "                    color =\"tab:blue\",\n",
    "                    ax = ax)\n",
    "    \n",
    "        g.set_xticklabels(labels = dist_df[\"token\"].unique(), rotation=90)\n",
    "        g.set_title(f\"Top 10 Word Frequency For {label[1]} News\");\n",
    "        \n",
    "    else:    \n",
    "        ax = axes[i]\n",
    "        dist = FreqDist(df.loc[df[\"label\"]==label[0],\"cleaned\"].explode())\n",
    "        dist_df = pd.DataFrame(dist.most_common(10),columns=[\"token\",\"frequency\"])\n",
    "\n",
    "        g = sns.barplot(dist_df[\"token\"],\n",
    "                    dist_df[\"frequency\"],\n",
    "                    color =\"tab:blue\",\n",
    "                    ax = ax)\n",
    "    \n",
    "        g.set_xticklabels(labels = dist_df[\"token\"].unique(), rotation=90)\n",
    "        g.set_title(f\"Top 10 Word Frequency For {label[1]} News\");"
   ]
  },
  {
   "cell_type": "markdown",
   "metadata": {},
   "source": [
    "Also one of the numerical columns that the cleaned dataframe has shows the number of url links in each news. We want to know how many news have an url link and how many links are there in the uncleaned news. The total number of raw news with url links are"
   ]
  },
  {
   "cell_type": "code",
   "execution_count": 30,
   "metadata": {},
   "outputs": [
    {
     "data": {
      "text/html": [
       "<div>\n",
       "<style scoped>\n",
       "    .dataframe tbody tr th:only-of-type {\n",
       "        vertical-align: middle;\n",
       "    }\n",
       "\n",
       "    .dataframe tbody tr th {\n",
       "        vertical-align: top;\n",
       "    }\n",
       "\n",
       "    .dataframe thead th {\n",
       "        text-align: right;\n",
       "    }\n",
       "</style>\n",
       "<table border=\"1\" class=\"dataframe\">\n",
       "  <thead>\n",
       "    <tr style=\"text-align: right;\">\n",
       "      <th></th>\n",
       "      <th>label</th>\n",
       "      <th>num_news_with_urls</th>\n",
       "    </tr>\n",
       "  </thead>\n",
       "  <tbody>\n",
       "    <tr>\n",
       "      <th>0</th>\n",
       "      <td>Fake</td>\n",
       "      <td>26221</td>\n",
       "    </tr>\n",
       "    <tr>\n",
       "      <th>1</th>\n",
       "      <td>True</td>\n",
       "      <td>40181</td>\n",
       "    </tr>\n",
       "  </tbody>\n",
       "</table>\n",
       "</div>"
      ],
      "text/plain": [
       "  label  num_news_with_urls\n",
       "0  Fake               26221\n",
       "1  True               40181"
      ]
     },
     "execution_count": 30,
     "metadata": {},
     "output_type": "execute_result"
    }
   ],
   "source": [
    "count_urls = df.groupby(\"label\")[[\"num_urls\"]].count().reset_index()\n",
    "count_urls.rename(columns = {\"label\":\"label\", \"num_urls\":\"num_news_with_urls\"}\n",
    "                 , inplace = True)\n",
    "\n",
    "count_urls.head()"
   ]
  },
  {
   "cell_type": "markdown",
   "metadata": {},
   "source": [
    "and the distribution of the news with/without url links is:"
   ]
  },
  {
   "cell_type": "code",
   "execution_count": 31,
   "metadata": {},
   "outputs": [
    {
     "data": {
      "image/png": "[encoded data removed]",
      "text/plain": [
       "<Figure size 432x288 with 1 Axes>"
      ]
     },
     "metadata": {},
     "output_type": "display_data"
    }
   ],
   "source": [
    "sns.barplot(x = \"label\", y = \"num_news_with_urls\", \n",
    "            data = count_urls, color = \"tab:blue\");"
   ]
  },
  {
   "cell_type": "markdown",
   "metadata": {},
   "source": [
    "The total number of news used in fake and true news are "
   ]
  },
  {
   "cell_type": "code",
   "execution_count": 32,
   "metadata": {},
   "outputs": [
    {
     "data": {
      "text/html": [
       "<div>\n",
       "<style scoped>\n",
       "    .dataframe tbody tr th:only-of-type {\n",
       "        vertical-align: middle;\n",
       "    }\n",
       "\n",
       "    .dataframe tbody tr th {\n",
       "        vertical-align: top;\n",
       "    }\n",
       "\n",
       "    .dataframe thead th {\n",
       "        text-align: right;\n",
       "    }\n",
       "</style>\n",
       "<table border=\"1\" class=\"dataframe\">\n",
       "  <thead>\n",
       "    <tr style=\"text-align: right;\">\n",
       "      <th></th>\n",
       "      <th>label</th>\n",
       "      <th>num_urls</th>\n",
       "    </tr>\n",
       "  </thead>\n",
       "  <tbody>\n",
       "    <tr>\n",
       "      <th>0</th>\n",
       "      <td>Fake</td>\n",
       "      <td>120614</td>\n",
       "    </tr>\n",
       "    <tr>\n",
       "      <th>1</th>\n",
       "      <td>True</td>\n",
       "      <td>66432</td>\n",
       "    </tr>\n",
       "  </tbody>\n",
       "</table>\n",
       "</div>"
      ],
      "text/plain": [
       "  label  num_urls\n",
       "0  Fake    120614\n",
       "1  True     66432"
      ]
     },
     "execution_count": 32,
     "metadata": {},
     "output_type": "execute_result"
    }
   ],
   "source": [
    "num_urls = df.groupby(\"label\")[[\"num_urls\"]].sum().reset_index()\n",
    "num_urls"
   ]
  },
  {
   "cell_type": "code",
   "execution_count": 33,
   "metadata": {},
   "outputs": [
    {
     "data": {
      "image/png": "[encoded data removed]",
      "text/plain": [
       "<Figure size 432x288 with 1 Axes>"
      ]
     },
     "metadata": {},
     "output_type": "display_data"
    }
   ],
   "source": [
    "sns.barplot(x = \"label\", y = \"num_urls\", \n",
    "            data = num_urls, color = \"tab:blue\");"
   ]
  },
  {
   "cell_type": "markdown",
   "metadata": {},
   "source": [
    "It seems that the more rue news relative to fake news that have url links but the total number of url links in the fake news is more that the total number of url links in the true news."
   ]
  },
  {
   "cell_type": "markdown",
   "metadata": {},
   "source": [
    "# Next"
   ]
  },
  {
   "cell_type": "markdown",
   "metadata": {},
   "source": [
    "The next step is modeling the data."
   ]
  }
 ],
 "metadata": {
  "kernelspec": {
   "display_name": "Python (learn-env)",
   "language": "python",
   "name": "learn-env"
  },
  "language_info": {
   "codemirror_mode": {
    "name": "ipython",
    "version": 3
   },
   "file_extension": ".py",
   "mimetype": "text/x-python",
   "name": "python",
   "nbconvert_exporter": "python",
   "pygments_lexer": "ipython3",
   "version": "3.8.5"
  },
  "latex_envs": {
   "LaTeX_envs_menu_present": true,
   "autoclose": false,
   "autocomplete": true,
   "bibliofile": "biblio.bib",
   "cite_by": "apalike",
   "current_citInitial": 1,
   "eqLabelWithNumbers": true,
   "eqNumInitial": 1,
   "hotkeys": {
    "equation": "Ctrl-E",
    "itemize": "Ctrl-I"
   },
   "labels_anchors": false,
   "latex_user_defs": false,
   "report_style_numbering": false,
   "user_envs_cfg": false
  },
  "toc": {
   "base_numbering": 1,
   "nav_menu": {},
   "number_sections": true,
   "sideBar": true,
   "skip_h1_title": false,
   "title_cell": "Table of Contents",
   "title_sidebar": "Contents",
   "toc_cell": false,
   "toc_position": {},
   "toc_section_display": true,
   "toc_window_display": false
  },
  "varInspector": {
   "cols": {
    "lenName": 16,
    "lenType": 16,
    "lenVar": 40
   },
   "kernels_config": {
    "python": {
     "delete_cmd_postfix": "",
     "delete_cmd_prefix": "del ",
     "library": "var_list.py",
     "varRefreshCmd": "print(var_dic_list())"
    },
    "r": {
     "delete_cmd_postfix": ") ",
     "delete_cmd_prefix": "rm(",
     "library": "var_list.r",
     "varRefreshCmd": "cat(var_dic_list()) "
    }
   },
   "types_to_exclude": [
    "module",
    "function",
    "builtin_function_or_method",
    "instance",
    "_Feature"
   ],
   "window_display": false
  }
 },
 "nbformat": 4,
 "nbformat_minor": 4
}
