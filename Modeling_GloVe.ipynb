{
 "cells": [
  {
   "cell_type": "markdown",
   "metadata": {},
   "source": [
    "We downloaded the GloVe from their [github repo](https://github.com/stanfordnlp/GloVe) "
   ]
  },
  {
   "cell_type": "markdown",
   "metadata": {
    "heading_collapsed": true
   },
   "source": [
    "# Importing Libraries"
   ]
  },
  {
   "cell_type": "markdown",
   "metadata": {
    "hidden": true
   },
   "source": [
    "In this section we import the libraries that we use"
   ]
  },
  {
   "cell_type": "code",
   "execution_count": 1,
   "metadata": {
    "hidden": true,
    "scrolled": true
   },
   "outputs": [
    {
     "name": "stderr",
     "output_type": "stream",
     "text": [
      "/opt/anaconda3/envs/learn-env/lib/python3.8/site-packages/xgboost/compat.py:93: FutureWarning: pandas.Int64Index is deprecated and will be removed from pandas in a future version. Use pandas.Index with the appropriate dtype instead.\n",
      "  from pandas import MultiIndex, Int64Index\n"
     ]
    }
   ],
   "source": [
    "import numpy as np\n",
    "import pandas as pd\n",
    "import string\n",
    "\n",
    "\n",
    "\n",
    "import seaborn as sns\n",
    "import matplotlib.pyplot as plt\n",
    "\n",
    "\n",
    "\n",
    "from sklearn.model_selection import train_test_split, cross_val_score\n",
    "from sklearn.metrics import confusion_matrix\n",
    "from sklearn.metrics import classification_report, accuracy_score\n",
    "from sklearn.metrics import plot_confusion_matrix\n",
    "from sklearn.preprocessing import LabelEncoder\n",
    "\n",
    "\n",
    "\n",
    "\n",
    "from sklearn.linear_model import LogisticRegression\n",
    "from sklearn.ensemble import RandomForestClassifier\n",
    "from sklearn.tree import DecisionTreeClassifier\n",
    "import xgboost as xgb\n",
    "import lightgbm as lgb\n",
    "\n",
    "\n",
    "from sklearn.pipeline import Pipeline\n",
    "from sklearn.preprocessing import FunctionTransformer\n",
    "from sklearn.compose import ColumnTransformer\n",
    "\n",
    "from gensim.models import word2vec\n",
    "\n",
    "\n",
    "import warnings\n",
    "warnings.filterwarnings('ignore')"
   ]
  },
  {
   "cell_type": "markdown",
   "metadata": {
    "heading_collapsed": true
   },
   "source": [
    "# Functions We Use"
   ]
  },
  {
   "cell_type": "markdown",
   "metadata": {
    "hidden": true
   },
   "source": [
    "In this section, we will put the functions that we are going to use in the next sections. The first two functions do some basic cleaning and the last function print the result of the models’ prediction."
   ]
  },
  {
   "cell_type": "code",
   "execution_count": 3,
   "metadata": {
    "hidden": true
   },
   "outputs": [],
   "source": [
    "def new_cleaning(data):\n",
    "\n",
    "\n",
    "    cleaned_data = data.replace(\"[\", \"\").replace(\"]\", \"\").replace(\"'\", \"\")\\\n",
    "                                    .replace(\" \", \"\").split(\",\")\n",
    "    \n",
    "    \n",
    "    return cleaned_data"
   ]
  },
  {
   "cell_type": "code",
   "execution_count": 4,
   "metadata": {
    "hidden": true
   },
   "outputs": [],
   "source": [
    "def text_from_token(data):\n",
    "    ## new_name   <----- \"cleaned_text\"\n",
    "    \n",
    "    cleaned_sentence = \" \".join(data)\n",
    "    \n",
    "    return  cleaned_sentence"
   ]
  },
  {
   "cell_type": "code",
   "execution_count": 21,
   "metadata": {
    "hidden": true
   },
   "outputs": [],
   "source": [
    "def print_results(model, X_train, y_train, X_test, y_test):\n",
    "    \n",
    "    le = LabelEncoder()\n",
    "    le.fit_transform(y_train)\n",
    "\n",
    "    fig, axes = plt.subplots(nrows=1, ncols=2, figsize=(15,10))\n",
    "    ax1 = axes[0]\n",
    "    plot_confusion_matrix(model, X_test, y_test, \n",
    "                          display_labels=le.classes_,\n",
    "                          cmap=plt.cm.Blues, ax = ax1)\n",
    "    \n",
    "    ax1.set_title(\"Confusion Matrix for Test Set\")\n",
    "    \n",
    "    ax2 = axes[1]\n",
    "    plot_confusion_matrix(model, X_train, y_train, \n",
    "                          display_labels=le.classes_,\n",
    "                          cmap=plt.cm.Blues, ax = ax2)\n",
    "    \n",
    "    \n",
    "    ax2.set_title(\"Confusion Matrix for Train Set\")\n",
    "    \n",
    "    \n",
    "    \n",
    "    ### Presenting Classification Report as a DataFrame\n",
    "    train_class = classification_report(y_train, model.predict(X_train), output_dict = True)\n",
    "    test_class  = classification_report(y_test, model.predict(X_test), output_dict = True)\n",
    "    \n",
    "    train_df = pd.DataFrame(train_class)\n",
    "    test_df  = pd.DataFrame(test_class)\n",
    "    \n",
    "    train_df[\"data\"] = \"TRAIN\"\n",
    "    test_df[\"data\"] = \"TEST\"\n",
    "    \n",
    "\n",
    "    report = pd.concat([test_df, train_df], axis = 0)\n",
    "    report.rename(columns = {\"1\": f\"{list(le.inverse_transform([1]))[0]}\",\n",
    "                             \"0\": f\"{list(le.inverse_transform([0]))[0]}\"}, inplace = True)\n",
    "    report[\"index\"] = list(report.index)\n",
    "\n",
    "    report.set_index([\"data\", \"index\"], inplace = True)\n",
    "    \n",
    "    for item in list(report.columns):\n",
    "        report[item] = report[item].apply(lambda x: np.round(x,2))\n",
    "    \n",
    "    return report"
   ]
  },
  {
   "cell_type": "markdown",
   "metadata": {
    "heading_collapsed": true
   },
   "source": [
    "# Importing Data"
   ]
  },
  {
   "cell_type": "code",
   "execution_count": 6,
   "metadata": {
    "hidden": true
   },
   "outputs": [
    {
     "name": "stdout",
     "output_type": "stream",
     "text": [
      "DONE!\n"
     ]
    }
   ],
   "source": [
    "train = pd.read_csv(\"../Modeling/train_test/train.csv\")\n",
    "test  = pd.read_csv(\"../Modeling/train_test/test.csv\")\n",
    "\n",
    "train_test = [train, test] \n",
    "\n",
    "for df in train_test:\n",
    "    \n",
    "    df.drop(\"Unnamed: 0\", inplace = True, axis = 1)\n",
    "\n",
    "    df = pd.read_csv(\"../EDA/cleaned_all/cleaned_all.csv\")\n",
    "\n",
    "    df[\"cleaned\"] =  df[\"cleaned\"].apply(lambda x: new_cleaning(x))\n",
    "\n",
    "    df[\"for_glove\"] =  df[\"for_glove\"].apply(lambda x: new_cleaning(x))\n",
    "\n",
    "    df[\"cleaned_text\"] = df[\"cleaned\"].apply(lambda x: text_from_token(x))\n",
    "    \n",
    "\n",
    "print(\"DONE!\")"
   ]
  },
  {
   "cell_type": "markdown",
   "metadata": {},
   "source": [
    "# Importing GloVe"
   ]
  },
  {
   "cell_type": "markdown",
   "metadata": {},
   "source": [
    "In this section, we import the file that we downloaded from [Stanford NLP GitHub Repo](https://github.com/stanfordnlp/GloVe) to be used for our modeling"
   ]
  },
  {
   "cell_type": "code",
   "execution_count": 7,
   "metadata": {},
   "outputs": [
    {
     "name": "stdout",
     "output_type": "stream",
     "text": [
      "There are 61 unique tokens in the train dataset.\n",
      "DONE!\n"
     ]
    }
   ],
   "source": [
    "data = train[\"for_glove\"].values\n",
    "total_vocabulary = set(word for headline in data for word in headline)\n",
    "len(total_vocabulary)\n",
    "\n",
    "\n",
    "glove = {}\n",
    "with open('glove.6B.50d.txt', 'rb') as f:\n",
    "    for line in f:\n",
    "        parts = line.split()\n",
    "        word = parts[0].decode('utf-8')\n",
    "        if word in total_vocabulary:\n",
    "            vector = np.array(parts[1:], dtype=np.float32)\n",
    "            glove[word] = vector\n",
    "            \n",
    "            \n",
    "print(f'There are {len(total_vocabulary)} unique tokens in the train dataset.') \n",
    "print(\"DONE!\")   "
   ]
  },
  {
   "cell_type": "code",
   "execution_count": 8,
   "metadata": {},
   "outputs": [
    {
     "name": "stdout",
     "output_type": "stream",
     "text": [
      "DONE!\n"
     ]
    }
   ],
   "source": [
    "class W2vVectorizer(object):\n",
    "    \n",
    "    def __init__(self, w2v):\n",
    "        # Takes in a dictionary of words and vectors as input\n",
    "        self.w2v = w2v\n",
    "        if len(w2v) == 0:\n",
    "            self.dimensions = 0\n",
    "        else:\n",
    "            self.dimensions = len(w2v[next(iter(glove))])\n",
    "    \n",
    "    # Note: Even though it doesn't do anything, it's required that this \n",
    "    # object implement a fit method or else it can't be used in a \n",
    "    # scikit-learn pipeline \n",
    "    \n",
    "    def fit(self, X, y):\n",
    "        return self\n",
    "            \n",
    "    def transform(self, X):\n",
    "        return np.array([\n",
    "            np.mean([self.w2v[w] for w in words if w in self.w2v]\n",
    "                   or [np.zeros(self.dimensions)], axis=0) for words in X])\n",
    "    \n",
    "    \n",
    "    \n",
    "print(\"DONE!\") "
   ]
  },
  {
   "cell_type": "code",
   "execution_count": 9,
   "metadata": {},
   "outputs": [
    {
     "data": {
      "text/plain": [
       "Index(['text', 'cleaned', 'for_glove', 'num_urls', 'neg', 'neu', 'pos',\n",
       "       'compound', 'cleaned_text', 'label'],\n",
       "      dtype='object')"
      ]
     },
     "execution_count": 9,
     "metadata": {},
     "output_type": "execute_result"
    }
   ],
   "source": [
    "train.columns"
   ]
  },
  {
   "cell_type": "markdown",
   "metadata": {},
   "source": [
    "# Train Test Split"
   ]
  },
  {
   "cell_type": "code",
   "execution_count": 28,
   "metadata": {},
   "outputs": [],
   "source": [
    "X_train = train['for_glove'].values\n",
    "y_train = train[\"label\"]\n",
    "\n",
    "X_test = test['for_glove'].values\n",
    "y_test = test[\"label\"]"
   ]
  },
  {
   "cell_type": "markdown",
   "metadata": {},
   "source": [
    "# Pipelines"
   ]
  },
  {
   "cell_type": "markdown",
   "metadata": {},
   "source": [
    "In this section, we will train different machine learning models on train set so that we could use them to filter out the fake news. The models we use are logistic regression, decision tree, random forest, xgboost and lightgbm. We will use the available word vectorized documents to train the model with on the training set in a pipeline and then we evaluate the performance of our model on the test sets."
   ]
  },
  {
   "cell_type": "markdown",
   "metadata": {
    "heading_collapsed": true
   },
   "source": [
    "## Making Pipelines"
   ]
  },
  {
   "cell_type": "code",
   "execution_count": 29,
   "metadata": {
    "hidden": true
   },
   "outputs": [
    {
     "name": "stdout",
     "output_type": "stream",
     "text": [
      "DONE!\n"
     ]
    }
   ],
   "source": [
    "# LogisticRegression\n",
    "\n",
    "col_transformer = ColumnTransformer(\n",
    "transformers=[\n",
    "(\"values\", FunctionTransformer(values),\"for_glove\"),\n",
    "(\"itself\", FunctionTransformer(itself), ['neg', 'neu', 'pos', \n",
    "                                         'compound', 'num_urls'])\n",
    "             ],    remainder=\"drop\")\n",
    "\n",
    "\n",
    "\n",
    "lr = Pipeline([\n",
    "('Word2Vec Vectorizer', W2vVectorizer(glove)),\n",
    "(\"Logistic Regression\", LogisticRegression(class_weight=\"balanced\",solver='liblinear',random_state=42))\n",
    "              ])\n",
    "\n",
    "# Decision Tree\n",
    "\n",
    "tree = Pipeline([\n",
    "('Word2Vec Vectorizer', W2vVectorizer(glove)),\n",
    "(\"Decision Tree\",DecisionTreeClassifier(class_weight=\"balanced\",criterion =\"gini\",\n",
    "                                  max_depth = 10, random_state = 42))    \n",
    "                ])\n",
    "\n",
    "# Random Forest\n",
    "\n",
    "forest = Pipeline([\n",
    "('Word2Vec Vectorizer', W2vVectorizer(glove)),\n",
    "(\"Random Forest\",RandomForestClassifier(criterion=\"entropy\", n_estimators=20,\n",
    "                            bootstrap = True, random_state = 42)) \n",
    "                 ])\n",
    "\n",
    "# XGBoost\n",
    "\n",
    "xgboost = Pipeline([\n",
    "('Word2Vec Vectorizer', W2vVectorizer(glove)),\n",
    "(\"xgb\", xgb.XGBClassifier(max_depth=20,n_estimators=20,seed=42,\n",
    "                  objective='binary:logistic', \n",
    "                          eval_metric = 'logloss'))\n",
    "                  ])\n",
    "\n",
    "\n",
    "# LightGBM\n",
    "params = {'num_boost_round':100,\n",
    "        'learning_rate':0.02,\n",
    "        'objective' : 'binary',\n",
    "        'max_depth':20,\n",
    "#         'eval_metric':\"cross_entropy\",\n",
    "        'verbose':0,\n",
    "        'random_seed': 42,\n",
    "        'class_weight' :  'balanced',\n",
    "        'force_row_wise' : True\n",
    "          }\n",
    "\n",
    "light = Pipeline([\n",
    "('Word2Vec Vectorizer', W2vVectorizer(glove)),\n",
    "(\"lgbm\", lgb.LGBMClassifier(**params))\n",
    "])\n",
    " \n",
    "\n",
    "print(\"DONE!\")"
   ]
  },
  {
   "cell_type": "markdown",
   "metadata": {},
   "source": [
    "## Models' Results"
   ]
  },
  {
   "cell_type": "markdown",
   "metadata": {
    "heading_collapsed": true
   },
   "source": [
    "### Logistic Regression"
   ]
  },
  {
   "cell_type": "markdown",
   "metadata": {
    "hidden": true
   },
   "source": [
    "The first model we train is logistic regression. By comparing this model with the one we trained on 1-gram TF-IDF, we conclude that the latter performs better in filtering out fake news."
   ]
  },
  {
   "cell_type": "code",
   "execution_count": 30,
   "metadata": {
    "hidden": true
   },
   "outputs": [
    {
     "name": "stdout",
     "output_type": "stream",
     "text": [
      "Fitting is DONE!\n"
     ]
    },
    {
     "data": {
      "text/html": [
       "<div>\n",
       "<style scoped>\n",
       "    .dataframe tbody tr th:only-of-type {\n",
       "        vertical-align: middle;\n",
       "    }\n",
       "\n",
       "    .dataframe tbody tr th {\n",
       "        vertical-align: top;\n",
       "    }\n",
       "\n",
       "    .dataframe thead th {\n",
       "        text-align: right;\n",
       "    }\n",
       "</style>\n",
       "<table border=\"1\" class=\"dataframe\">\n",
       "  <thead>\n",
       "    <tr style=\"text-align: right;\">\n",
       "      <th></th>\n",
       "      <th></th>\n",
       "      <th>Fake</th>\n",
       "      <th>True</th>\n",
       "      <th>accuracy</th>\n",
       "      <th>macro avg</th>\n",
       "      <th>weighted avg</th>\n",
       "    </tr>\n",
       "    <tr>\n",
       "      <th>data</th>\n",
       "      <th>index</th>\n",
       "      <th></th>\n",
       "      <th></th>\n",
       "      <th></th>\n",
       "      <th></th>\n",
       "      <th></th>\n",
       "    </tr>\n",
       "  </thead>\n",
       "  <tbody>\n",
       "    <tr>\n",
       "      <th rowspan=\"4\" valign=\"top\">TEST</th>\n",
       "      <th>precision</th>\n",
       "      <td>0.60</td>\n",
       "      <td>0.80</td>\n",
       "      <td>0.70</td>\n",
       "      <td>0.70</td>\n",
       "      <td>0.72</td>\n",
       "    </tr>\n",
       "    <tr>\n",
       "      <th>recall</th>\n",
       "      <td>0.75</td>\n",
       "      <td>0.66</td>\n",
       "      <td>0.70</td>\n",
       "      <td>0.71</td>\n",
       "      <td>0.70</td>\n",
       "    </tr>\n",
       "    <tr>\n",
       "      <th>f1-score</th>\n",
       "      <td>0.66</td>\n",
       "      <td>0.73</td>\n",
       "      <td>0.70</td>\n",
       "      <td>0.69</td>\n",
       "      <td>0.70</td>\n",
       "    </tr>\n",
       "    <tr>\n",
       "      <th>support</th>\n",
       "      <td>8719.00</td>\n",
       "      <td>13194.00</td>\n",
       "      <td>0.70</td>\n",
       "      <td>21913.00</td>\n",
       "      <td>21913.00</td>\n",
       "    </tr>\n",
       "    <tr>\n",
       "      <th rowspan=\"4\" valign=\"top\">TRAIN</th>\n",
       "      <th>precision</th>\n",
       "      <td>0.59</td>\n",
       "      <td>0.80</td>\n",
       "      <td>0.69</td>\n",
       "      <td>0.70</td>\n",
       "      <td>0.72</td>\n",
       "    </tr>\n",
       "    <tr>\n",
       "      <th>recall</th>\n",
       "      <td>0.75</td>\n",
       "      <td>0.66</td>\n",
       "      <td>0.69</td>\n",
       "      <td>0.70</td>\n",
       "      <td>0.69</td>\n",
       "    </tr>\n",
       "    <tr>\n",
       "      <th>f1-score</th>\n",
       "      <td>0.66</td>\n",
       "      <td>0.72</td>\n",
       "      <td>0.69</td>\n",
       "      <td>0.69</td>\n",
       "      <td>0.70</td>\n",
       "    </tr>\n",
       "    <tr>\n",
       "      <th>support</th>\n",
       "      <td>17502.00</td>\n",
       "      <td>26987.00</td>\n",
       "      <td>0.69</td>\n",
       "      <td>44489.00</td>\n",
       "      <td>44489.00</td>\n",
       "    </tr>\n",
       "  </tbody>\n",
       "</table>\n",
       "</div>"
      ],
      "text/plain": [
       "                     Fake      True  accuracy  macro avg  weighted avg\n",
       "data  index                                                           \n",
       "TEST  precision      0.60      0.80      0.70       0.70          0.72\n",
       "      recall         0.75      0.66      0.70       0.71          0.70\n",
       "      f1-score       0.66      0.73      0.70       0.69          0.70\n",
       "      support     8719.00  13194.00      0.70   21913.00      21913.00\n",
       "TRAIN precision      0.59      0.80      0.69       0.70          0.72\n",
       "      recall         0.75      0.66      0.69       0.70          0.69\n",
       "      f1-score       0.66      0.72      0.69       0.69          0.70\n",
       "      support    17502.00  26987.00      0.69   44489.00      44489.00"
      ]
     },
     "execution_count": 30,
     "metadata": {},
     "output_type": "execute_result"
    },
    {
     "data": {
      "image/png": "[encoded data removed]",
      "text/plain": [
       "<Figure size 1080x720 with 4 Axes>"
      ]
     },
     "metadata": {
      "needs_background": "light"
     },
     "output_type": "display_data"
    }
   ],
   "source": [
    "lr.fit(X_train, y_train)\n",
    "print(\"Fitting is DONE!\")\n",
    "\n",
    "print_results(lr, X_train, y_train, X_test, y_test)"
   ]
  },
  {
   "cell_type": "markdown",
   "metadata": {
    "heading_collapsed": true
   },
   "source": [
    "### Decision Tree"
   ]
  },
  {
   "cell_type": "markdown",
   "metadata": {
    "hidden": true
   },
   "source": [
    "The second model that we train is decision tree. Compared to the logistic regression model that created in the previous subsection, we can see that the logistic regression model performs better in filtering out fake news because it has a better recall score, even though its accuracy is less than the current model. Also comparing to the model trained on 1-grams TF-IDF and 2-grams TF-IDF, we see that the current model performs poorly.  "
   ]
  },
  {
   "cell_type": "code",
   "execution_count": 31,
   "metadata": {
    "hidden": true
   },
   "outputs": [
    {
     "name": "stdout",
     "output_type": "stream",
     "text": [
      "Fitting is DONE!\n"
     ]
    },
    {
     "data": {
      "text/html": [
       "<div>\n",
       "<style scoped>\n",
       "    .dataframe tbody tr th:only-of-type {\n",
       "        vertical-align: middle;\n",
       "    }\n",
       "\n",
       "    .dataframe tbody tr th {\n",
       "        vertical-align: top;\n",
       "    }\n",
       "\n",
       "    .dataframe thead th {\n",
       "        text-align: right;\n",
       "    }\n",
       "</style>\n",
       "<table border=\"1\" class=\"dataframe\">\n",
       "  <thead>\n",
       "    <tr style=\"text-align: right;\">\n",
       "      <th></th>\n",
       "      <th></th>\n",
       "      <th>Fake</th>\n",
       "      <th>True</th>\n",
       "      <th>accuracy</th>\n",
       "      <th>macro avg</th>\n",
       "      <th>weighted avg</th>\n",
       "    </tr>\n",
       "    <tr>\n",
       "      <th>data</th>\n",
       "      <th>index</th>\n",
       "      <th></th>\n",
       "      <th></th>\n",
       "      <th></th>\n",
       "      <th></th>\n",
       "      <th></th>\n",
       "    </tr>\n",
       "  </thead>\n",
       "  <tbody>\n",
       "    <tr>\n",
       "      <th rowspan=\"4\" valign=\"top\">TEST</th>\n",
       "      <th>precision</th>\n",
       "      <td>0.63</td>\n",
       "      <td>0.77</td>\n",
       "      <td>0.71</td>\n",
       "      <td>0.70</td>\n",
       "      <td>0.71</td>\n",
       "    </tr>\n",
       "    <tr>\n",
       "      <th>recall</th>\n",
       "      <td>0.67</td>\n",
       "      <td>0.74</td>\n",
       "      <td>0.71</td>\n",
       "      <td>0.70</td>\n",
       "      <td>0.71</td>\n",
       "    </tr>\n",
       "    <tr>\n",
       "      <th>f1-score</th>\n",
       "      <td>0.65</td>\n",
       "      <td>0.75</td>\n",
       "      <td>0.71</td>\n",
       "      <td>0.70</td>\n",
       "      <td>0.71</td>\n",
       "    </tr>\n",
       "    <tr>\n",
       "      <th>support</th>\n",
       "      <td>8719.00</td>\n",
       "      <td>13194.00</td>\n",
       "      <td>0.71</td>\n",
       "      <td>21913.00</td>\n",
       "      <td>21913.00</td>\n",
       "    </tr>\n",
       "    <tr>\n",
       "      <th rowspan=\"4\" valign=\"top\">TRAIN</th>\n",
       "      <th>precision</th>\n",
       "      <td>0.72</td>\n",
       "      <td>0.85</td>\n",
       "      <td>0.79</td>\n",
       "      <td>0.78</td>\n",
       "      <td>0.80</td>\n",
       "    </tr>\n",
       "    <tr>\n",
       "      <th>recall</th>\n",
       "      <td>0.78</td>\n",
       "      <td>0.80</td>\n",
       "      <td>0.79</td>\n",
       "      <td>0.79</td>\n",
       "      <td>0.79</td>\n",
       "    </tr>\n",
       "    <tr>\n",
       "      <th>f1-score</th>\n",
       "      <td>0.75</td>\n",
       "      <td>0.82</td>\n",
       "      <td>0.79</td>\n",
       "      <td>0.79</td>\n",
       "      <td>0.79</td>\n",
       "    </tr>\n",
       "    <tr>\n",
       "      <th>support</th>\n",
       "      <td>17502.00</td>\n",
       "      <td>26987.00</td>\n",
       "      <td>0.79</td>\n",
       "      <td>44489.00</td>\n",
       "      <td>44489.00</td>\n",
       "    </tr>\n",
       "  </tbody>\n",
       "</table>\n",
       "</div>"
      ],
      "text/plain": [
       "                     Fake      True  accuracy  macro avg  weighted avg\n",
       "data  index                                                           \n",
       "TEST  precision      0.63      0.77      0.71       0.70          0.71\n",
       "      recall         0.67      0.74      0.71       0.70          0.71\n",
       "      f1-score       0.65      0.75      0.71       0.70          0.71\n",
       "      support     8719.00  13194.00      0.71   21913.00      21913.00\n",
       "TRAIN precision      0.72      0.85      0.79       0.78          0.80\n",
       "      recall         0.78      0.80      0.79       0.79          0.79\n",
       "      f1-score       0.75      0.82      0.79       0.79          0.79\n",
       "      support    17502.00  26987.00      0.79   44489.00      44489.00"
      ]
     },
     "execution_count": 31,
     "metadata": {},
     "output_type": "execute_result"
    },
    {
     "data": {
      "image/png": "[encoded data removed]",
      "text/plain": [
       "<Figure size 1080x720 with 4 Axes>"
      ]
     },
     "metadata": {
      "needs_background": "light"
     },
     "output_type": "display_data"
    }
   ],
   "source": [
    "tree.fit(X_train, y_train)\n",
    "print(\"Fitting is DONE!\")\n",
    "\n",
    "print_results(tree, X_train, y_train, X_test, y_test)"
   ]
  },
  {
   "cell_type": "markdown",
   "metadata": {
    "heading_collapsed": true
   },
   "source": [
    "### Random Forest"
   ]
  },
  {
   "cell_type": "markdown",
   "metadata": {
    "hidden": true
   },
   "source": [
    "The third model that we train is random forest and if we compare the results obtained from training this model with the two previous ones, we conclude that even though it has hight accuracy score, it does not perform better in filtering out the fake news. Moreover, by comparing the accuracy scores for test and train sets, we realize that this model is overfittedMoreover, we can see that this model does not out perform the random forest model when it was trained on 1-gram and 2-grams TF-IDF. Therefore, we put this model out."
   ]
  },
  {
   "cell_type": "code",
   "execution_count": 32,
   "metadata": {
    "hidden": true
   },
   "outputs": [
    {
     "name": "stdout",
     "output_type": "stream",
     "text": [
      "Fitting is DONE!\n"
     ]
    },
    {
     "data": {
      "text/html": [
       "<div>\n",
       "<style scoped>\n",
       "    .dataframe tbody tr th:only-of-type {\n",
       "        vertical-align: middle;\n",
       "    }\n",
       "\n",
       "    .dataframe tbody tr th {\n",
       "        vertical-align: top;\n",
       "    }\n",
       "\n",
       "    .dataframe thead th {\n",
       "        text-align: right;\n",
       "    }\n",
       "</style>\n",
       "<table border=\"1\" class=\"dataframe\">\n",
       "  <thead>\n",
       "    <tr style=\"text-align: right;\">\n",
       "      <th></th>\n",
       "      <th></th>\n",
       "      <th>Fake</th>\n",
       "      <th>True</th>\n",
       "      <th>accuracy</th>\n",
       "      <th>macro avg</th>\n",
       "      <th>weighted avg</th>\n",
       "    </tr>\n",
       "    <tr>\n",
       "      <th>data</th>\n",
       "      <th>index</th>\n",
       "      <th></th>\n",
       "      <th></th>\n",
       "      <th></th>\n",
       "      <th></th>\n",
       "      <th></th>\n",
       "    </tr>\n",
       "  </thead>\n",
       "  <tbody>\n",
       "    <tr>\n",
       "      <th rowspan=\"4\" valign=\"top\">TEST</th>\n",
       "      <th>precision</th>\n",
       "      <td>0.74</td>\n",
       "      <td>0.77</td>\n",
       "      <td>0.76</td>\n",
       "      <td>0.76</td>\n",
       "      <td>0.76</td>\n",
       "    </tr>\n",
       "    <tr>\n",
       "      <th>recall</th>\n",
       "      <td>0.60</td>\n",
       "      <td>0.86</td>\n",
       "      <td>0.76</td>\n",
       "      <td>0.73</td>\n",
       "      <td>0.76</td>\n",
       "    </tr>\n",
       "    <tr>\n",
       "      <th>f1-score</th>\n",
       "      <td>0.67</td>\n",
       "      <td>0.81</td>\n",
       "      <td>0.76</td>\n",
       "      <td>0.74</td>\n",
       "      <td>0.75</td>\n",
       "    </tr>\n",
       "    <tr>\n",
       "      <th>support</th>\n",
       "      <td>8719.00</td>\n",
       "      <td>13194.00</td>\n",
       "      <td>0.76</td>\n",
       "      <td>21913.00</td>\n",
       "      <td>21913.00</td>\n",
       "    </tr>\n",
       "    <tr>\n",
       "      <th rowspan=\"4\" valign=\"top\">TRAIN</th>\n",
       "      <th>precision</th>\n",
       "      <td>1.00</td>\n",
       "      <td>1.00</td>\n",
       "      <td>1.00</td>\n",
       "      <td>1.00</td>\n",
       "      <td>1.00</td>\n",
       "    </tr>\n",
       "    <tr>\n",
       "      <th>recall</th>\n",
       "      <td>1.00</td>\n",
       "      <td>1.00</td>\n",
       "      <td>1.00</td>\n",
       "      <td>1.00</td>\n",
       "      <td>1.00</td>\n",
       "    </tr>\n",
       "    <tr>\n",
       "      <th>f1-score</th>\n",
       "      <td>1.00</td>\n",
       "      <td>1.00</td>\n",
       "      <td>1.00</td>\n",
       "      <td>1.00</td>\n",
       "      <td>1.00</td>\n",
       "    </tr>\n",
       "    <tr>\n",
       "      <th>support</th>\n",
       "      <td>17502.00</td>\n",
       "      <td>26987.00</td>\n",
       "      <td>1.00</td>\n",
       "      <td>44489.00</td>\n",
       "      <td>44489.00</td>\n",
       "    </tr>\n",
       "  </tbody>\n",
       "</table>\n",
       "</div>"
      ],
      "text/plain": [
       "                     Fake      True  accuracy  macro avg  weighted avg\n",
       "data  index                                                           \n",
       "TEST  precision      0.74      0.77      0.76       0.76          0.76\n",
       "      recall         0.60      0.86      0.76       0.73          0.76\n",
       "      f1-score       0.67      0.81      0.76       0.74          0.75\n",
       "      support     8719.00  13194.00      0.76   21913.00      21913.00\n",
       "TRAIN precision      1.00      1.00      1.00       1.00          1.00\n",
       "      recall         1.00      1.00      1.00       1.00          1.00\n",
       "      f1-score       1.00      1.00      1.00       1.00          1.00\n",
       "      support    17502.00  26987.00      1.00   44489.00      44489.00"
      ]
     },
     "execution_count": 32,
     "metadata": {},
     "output_type": "execute_result"
    },
    {
     "data": {
      "image/png": "[encoded data removed]",
      "text/plain": [
       "<Figure size 1080x720 with 4 Axes>"
      ]
     },
     "metadata": {
      "needs_background": "light"
     },
     "output_type": "display_data"
    }
   ],
   "source": [
    "forest.fit(X_train, y_train)\n",
    "print(\"Fitting is DONE!\")\n",
    "\n",
    "print_results(forest, X_train, y_train, X_test, y_test)"
   ]
  },
  {
   "cell_type": "markdown",
   "metadata": {
    "heading_collapsed": true
   },
   "source": [
    "### XGBoost"
   ]
  },
  {
   "cell_type": "markdown",
   "metadata": {
    "hidden": true
   },
   "source": [
    "The forth model that we train on the training set is xgboost model. By comparing the accuracy scores for test and train sets, we realize that this model is overfitted. On the other hand if we compare this model with the previous models in this notebook, we conclude that similar to the random forest model, it has lower recall score for fake news even though it has higher accuracy compared to the logistic regression model and decision tree."
   ]
  },
  {
   "cell_type": "code",
   "execution_count": 33,
   "metadata": {
    "hidden": true
   },
   "outputs": [
    {
     "name": "stdout",
     "output_type": "stream",
     "text": [
      "Fitting is DONE!\n"
     ]
    },
    {
     "data": {
      "text/html": [
       "<div>\n",
       "<style scoped>\n",
       "    .dataframe tbody tr th:only-of-type {\n",
       "        vertical-align: middle;\n",
       "    }\n",
       "\n",
       "    .dataframe tbody tr th {\n",
       "        vertical-align: top;\n",
       "    }\n",
       "\n",
       "    .dataframe thead th {\n",
       "        text-align: right;\n",
       "    }\n",
       "</style>\n",
       "<table border=\"1\" class=\"dataframe\">\n",
       "  <thead>\n",
       "    <tr style=\"text-align: right;\">\n",
       "      <th></th>\n",
       "      <th></th>\n",
       "      <th>Fake</th>\n",
       "      <th>True</th>\n",
       "      <th>accuracy</th>\n",
       "      <th>macro avg</th>\n",
       "      <th>weighted avg</th>\n",
       "    </tr>\n",
       "    <tr>\n",
       "      <th>data</th>\n",
       "      <th>index</th>\n",
       "      <th></th>\n",
       "      <th></th>\n",
       "      <th></th>\n",
       "      <th></th>\n",
       "      <th></th>\n",
       "    </tr>\n",
       "  </thead>\n",
       "  <tbody>\n",
       "    <tr>\n",
       "      <th rowspan=\"4\" valign=\"top\">TEST</th>\n",
       "      <th>precision</th>\n",
       "      <td>0.76</td>\n",
       "      <td>0.77</td>\n",
       "      <td>0.76</td>\n",
       "      <td>0.76</td>\n",
       "      <td>0.76</td>\n",
       "    </tr>\n",
       "    <tr>\n",
       "      <th>recall</th>\n",
       "      <td>0.60</td>\n",
       "      <td>0.87</td>\n",
       "      <td>0.76</td>\n",
       "      <td>0.74</td>\n",
       "      <td>0.76</td>\n",
       "    </tr>\n",
       "    <tr>\n",
       "      <th>f1-score</th>\n",
       "      <td>0.67</td>\n",
       "      <td>0.82</td>\n",
       "      <td>0.76</td>\n",
       "      <td>0.74</td>\n",
       "      <td>0.76</td>\n",
       "    </tr>\n",
       "    <tr>\n",
       "      <th>support</th>\n",
       "      <td>8719.00</td>\n",
       "      <td>13194.00</td>\n",
       "      <td>0.76</td>\n",
       "      <td>21913.00</td>\n",
       "      <td>21913.00</td>\n",
       "    </tr>\n",
       "    <tr>\n",
       "      <th rowspan=\"4\" valign=\"top\">TRAIN</th>\n",
       "      <th>precision</th>\n",
       "      <td>1.00</td>\n",
       "      <td>1.00</td>\n",
       "      <td>1.00</td>\n",
       "      <td>1.00</td>\n",
       "      <td>1.00</td>\n",
       "    </tr>\n",
       "    <tr>\n",
       "      <th>recall</th>\n",
       "      <td>1.00</td>\n",
       "      <td>1.00</td>\n",
       "      <td>1.00</td>\n",
       "      <td>1.00</td>\n",
       "      <td>1.00</td>\n",
       "    </tr>\n",
       "    <tr>\n",
       "      <th>f1-score</th>\n",
       "      <td>1.00</td>\n",
       "      <td>1.00</td>\n",
       "      <td>1.00</td>\n",
       "      <td>1.00</td>\n",
       "      <td>1.00</td>\n",
       "    </tr>\n",
       "    <tr>\n",
       "      <th>support</th>\n",
       "      <td>17502.00</td>\n",
       "      <td>26987.00</td>\n",
       "      <td>1.00</td>\n",
       "      <td>44489.00</td>\n",
       "      <td>44489.00</td>\n",
       "    </tr>\n",
       "  </tbody>\n",
       "</table>\n",
       "</div>"
      ],
      "text/plain": [
       "                     Fake      True  accuracy  macro avg  weighted avg\n",
       "data  index                                                           \n",
       "TEST  precision      0.76      0.77      0.76       0.76          0.76\n",
       "      recall         0.60      0.87      0.76       0.74          0.76\n",
       "      f1-score       0.67      0.82      0.76       0.74          0.76\n",
       "      support     8719.00  13194.00      0.76   21913.00      21913.00\n",
       "TRAIN precision      1.00      1.00      1.00       1.00          1.00\n",
       "      recall         1.00      1.00      1.00       1.00          1.00\n",
       "      f1-score       1.00      1.00      1.00       1.00          1.00\n",
       "      support    17502.00  26987.00      1.00   44489.00      44489.00"
      ]
     },
     "execution_count": 33,
     "metadata": {},
     "output_type": "execute_result"
    },
    {
     "data": {
      "image/png": "[encoded data removed]",
      "text/plain": [
       "<Figure size 1080x720 with 4 Axes>"
      ]
     },
     "metadata": {
      "needs_background": "light"
     },
     "output_type": "display_data"
    }
   ],
   "source": [
    "xgboost.fit(X_train, y_train)\n",
    "print(\"Fitting is DONE!\")\n",
    "\n",
    "print_results(xgboost, X_train, y_train, X_test, y_test)"
   ]
  },
  {
   "cell_type": "markdown",
   "metadata": {},
   "source": [
    "### LightGBM"
   ]
  },
  {
   "cell_type": "markdown",
   "metadata": {},
   "source": [
    "We finish modeling in this notebook by training the LightGBM model on training sets. By comparing the result of this model with the previous models, we see that this model along with random forest and xgboost have the highest accuracy score. Moreover, this model does not show any signs of overfitting. Comparing to the model trained on 1-grams and 2-grams TF-IDF, we see that this model does not perform better. "
   ]
  },
  {
   "cell_type": "code",
   "execution_count": 34,
   "metadata": {},
   "outputs": [
    {
     "name": "stdout",
     "output_type": "stream",
     "text": [
      "[LightGBM] [Warning] num_iterations is set=100, num_boost_round=100 will be ignored. Current value: num_iterations=100\n",
      "[LightGBM] [Warning] Accuracy may be bad since you didn't explicitly set num_leaves OR 2^max_depth > num_leaves. (num_leaves=31).\n",
      "[LightGBM] [Warning] Accuracy may be bad since you didn't explicitly set num_leaves OR 2^max_depth > num_leaves. (num_leaves=31).\n",
      "Fitting is DONE!\n"
     ]
    },
    {
     "data": {
      "text/html": [
       "<div>\n",
       "<style scoped>\n",
       "    .dataframe tbody tr th:only-of-type {\n",
       "        vertical-align: middle;\n",
       "    }\n",
       "\n",
       "    .dataframe tbody tr th {\n",
       "        vertical-align: top;\n",
       "    }\n",
       "\n",
       "    .dataframe thead th {\n",
       "        text-align: right;\n",
       "    }\n",
       "</style>\n",
       "<table border=\"1\" class=\"dataframe\">\n",
       "  <thead>\n",
       "    <tr style=\"text-align: right;\">\n",
       "      <th></th>\n",
       "      <th></th>\n",
       "      <th>Fake</th>\n",
       "      <th>True</th>\n",
       "      <th>accuracy</th>\n",
       "      <th>macro avg</th>\n",
       "      <th>weighted avg</th>\n",
       "    </tr>\n",
       "    <tr>\n",
       "      <th>data</th>\n",
       "      <th>index</th>\n",
       "      <th></th>\n",
       "      <th></th>\n",
       "      <th></th>\n",
       "      <th></th>\n",
       "      <th></th>\n",
       "    </tr>\n",
       "  </thead>\n",
       "  <tbody>\n",
       "    <tr>\n",
       "      <th rowspan=\"4\" valign=\"top\">TEST</th>\n",
       "      <th>precision</th>\n",
       "      <td>0.72</td>\n",
       "      <td>0.78</td>\n",
       "      <td>0.76</td>\n",
       "      <td>0.75</td>\n",
       "      <td>0.76</td>\n",
       "    </tr>\n",
       "    <tr>\n",
       "      <th>recall</th>\n",
       "      <td>0.64</td>\n",
       "      <td>0.84</td>\n",
       "      <td>0.76</td>\n",
       "      <td>0.74</td>\n",
       "      <td>0.76</td>\n",
       "    </tr>\n",
       "    <tr>\n",
       "      <th>f1-score</th>\n",
       "      <td>0.68</td>\n",
       "      <td>0.81</td>\n",
       "      <td>0.76</td>\n",
       "      <td>0.74</td>\n",
       "      <td>0.76</td>\n",
       "    </tr>\n",
       "    <tr>\n",
       "      <th>support</th>\n",
       "      <td>8719.00</td>\n",
       "      <td>13194.00</td>\n",
       "      <td>0.76</td>\n",
       "      <td>21913.00</td>\n",
       "      <td>21913.00</td>\n",
       "    </tr>\n",
       "    <tr>\n",
       "      <th rowspan=\"4\" valign=\"top\">TRAIN</th>\n",
       "      <th>precision</th>\n",
       "      <td>0.73</td>\n",
       "      <td>0.79</td>\n",
       "      <td>0.77</td>\n",
       "      <td>0.76</td>\n",
       "      <td>0.77</td>\n",
       "    </tr>\n",
       "    <tr>\n",
       "      <th>recall</th>\n",
       "      <td>0.66</td>\n",
       "      <td>0.84</td>\n",
       "      <td>0.77</td>\n",
       "      <td>0.75</td>\n",
       "      <td>0.77</td>\n",
       "    </tr>\n",
       "    <tr>\n",
       "      <th>f1-score</th>\n",
       "      <td>0.69</td>\n",
       "      <td>0.82</td>\n",
       "      <td>0.77</td>\n",
       "      <td>0.76</td>\n",
       "      <td>0.77</td>\n",
       "    </tr>\n",
       "    <tr>\n",
       "      <th>support</th>\n",
       "      <td>17502.00</td>\n",
       "      <td>26987.00</td>\n",
       "      <td>0.77</td>\n",
       "      <td>44489.00</td>\n",
       "      <td>44489.00</td>\n",
       "    </tr>\n",
       "  </tbody>\n",
       "</table>\n",
       "</div>"
      ],
      "text/plain": [
       "                     Fake      True  accuracy  macro avg  weighted avg\n",
       "data  index                                                           \n",
       "TEST  precision      0.72      0.78      0.76       0.75          0.76\n",
       "      recall         0.64      0.84      0.76       0.74          0.76\n",
       "      f1-score       0.68      0.81      0.76       0.74          0.76\n",
       "      support     8719.00  13194.00      0.76   21913.00      21913.00\n",
       "TRAIN precision      0.73      0.79      0.77       0.76          0.77\n",
       "      recall         0.66      0.84      0.77       0.75          0.77\n",
       "      f1-score       0.69      0.82      0.77       0.76          0.77\n",
       "      support    17502.00  26987.00      0.77   44489.00      44489.00"
      ]
     },
     "execution_count": 34,
     "metadata": {},
     "output_type": "execute_result"
    },
    {
     "data": {
      "image/png": "[encoded data removed]",
      "text/plain": [
       "<Figure size 1080x720 with 4 Axes>"
      ]
     },
     "metadata": {
      "needs_background": "light"
     },
     "output_type": "display_data"
    }
   ],
   "source": [
    "light.fit(X_train, y_train)\n",
    "print(\"Fitting is DONE!\")\n",
    "\n",
    "print_results(light, X_train, y_train, X_test, y_test)"
   ]
  },
  {
   "cell_type": "markdown",
   "metadata": {},
   "source": [
    "# Summary of Models"
   ]
  },
  {
   "cell_type": "markdown",
   "metadata": {},
   "source": [
    "We realized that when different models are trained on data obtained from GloVE, they did not perform better compared to when they are trained on 1-grams and 2-grams TF-IDF. By comparing the different accuracy results, we see that LightGBM is not showing any signs of overfitting and it has the highest accuracy score. However, the recall scores obtained from using logistic regression model is better than the score we can get from LightGBM. Therefore, we would recommend logistic regression model as the final model of this notebook.\n",
    "\n",
    "In order to improve the performances of these models we may use grid search to optimize their hyper-parameters. Moreover, if we try to extract and engineer more information from the texts, we may be able to improve these models."
   ]
  }
 ],
 "metadata": {
  "kernelspec": {
   "display_name": "Python (learn-env)",
   "language": "python",
   "name": "learn-env"
  },
  "language_info": {
   "codemirror_mode": {
    "name": "ipython",
    "version": 3
   },
   "file_extension": ".py",
   "mimetype": "text/x-python",
   "name": "python",
   "nbconvert_exporter": "python",
   "pygments_lexer": "ipython3",
   "version": "3.8.5"
  },
  "latex_envs": {
   "LaTeX_envs_menu_present": true,
   "autoclose": false,
   "autocomplete": true,
   "bibliofile": "biblio.bib",
   "cite_by": "apalike",
   "current_citInitial": 1,
   "eqLabelWithNumbers": true,
   "eqNumInitial": 1,
   "hotkeys": {
    "equation": "Ctrl-E",
    "itemize": "Ctrl-I"
   },
   "labels_anchors": false,
   "latex_user_defs": false,
   "report_style_numbering": false,
   "user_envs_cfg": false
  },
  "toc": {
   "base_numbering": 1,
   "nav_menu": {},
   "number_sections": true,
   "sideBar": true,
   "skip_h1_title": false,
   "title_cell": "Table of Contents",
   "title_sidebar": "Contents",
   "toc_cell": false,
   "toc_position": {},
   "toc_section_display": true,
   "toc_window_display": false
  },
  "varInspector": {
   "cols": {
    "lenName": 16,
    "lenType": 16,
    "lenVar": 40
   },
   "kernels_config": {
    "python": {
     "delete_cmd_postfix": "",
     "delete_cmd_prefix": "del ",
     "library": "var_list.py",
     "varRefreshCmd": "print(var_dic_list())"
    },
    "r": {
     "delete_cmd_postfix": ") ",
     "delete_cmd_prefix": "rm(",
     "library": "var_list.r",
     "varRefreshCmd": "cat(var_dic_list()) "
    }
   },
   "types_to_exclude": [
    "module",
    "function",
    "builtin_function_or_method",
    "instance",
    "_Feature"
   ],
   "window_display": false
  }
 },
 "nbformat": 4,
 "nbformat_minor": 4
}
